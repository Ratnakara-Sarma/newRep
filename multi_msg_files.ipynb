{
 "metadata": {
  "language_info": {
   "codemirror_mode": {
    "name": "ipython",
    "version": 3
   },
   "file_extension": ".py",
   "mimetype": "text/x-python",
   "name": "python",
   "nbconvert_exporter": "python",
   "pygments_lexer": "ipython3",
   "version": "3.8.5-final"
  },
  "orig_nbformat": 2,
  "kernelspec": {
   "name": "python385jvsc74a57bd0b3ba2566441a7c06988d0923437866b63cedc61552a5af99d1f4fb67d367b25f",
   "display_name": "Python 3.8.5 64-bit (conda)"
  }
 },
 "nbformat": 4,
 "nbformat_minor": 2,
 "cells": [
  {
   "cell_type": "code",
   "execution_count": 1,
   "metadata": {},
   "outputs": [],
   "source": [
    "import glob\n",
    "import pandas as pd\n",
    "import time\n",
    "import re\n",
    "from outlook_msg import Message"
   ]
  },
  {
   "cell_type": "code",
   "execution_count": 2,
   "metadata": {},
   "outputs": [],
   "source": [
    "import findspark\n",
    "findspark.init()"
   ]
  },
  {
   "cell_type": "code",
   "execution_count": 3,
   "metadata": {},
   "outputs": [],
   "source": [
    "from pyspark import SparkContext, SparkConf, SQLContext\n",
    "from pyspark.sql import SparkSession\n",
    "from pyspark.sql import SQLContext\n",
    "from pyspark.sql.types import *\n",
    "from pyspark.sql.functions import *"
   ]
  },
  {
   "cell_type": "code",
   "execution_count": 4,
   "metadata": {},
   "outputs": [
    {
     "output_type": "stream",
     "name": "stdout",
     "text": [
      "Wall time: 6.21 s\n"
     ]
    }
   ],
   "source": [
    "%%time\n",
    "conf = SparkConf()\n",
    "conf.set(\"spark.network.timeout\", \"1000000\")\n",
    "conf.set(\"spark.executor.heartbeatInterval\", \"1000000\")\n",
    "conf.set(\"spark.speculation\",\"false\")\n",
    "conf.set(\"spark.app.name\",\"blahered\")\n",
    "spark = SparkSession.builder.config(conf = conf).master(\"local[*]\").enableHiveSupport().getOrCreate() #(\"local[*]\") uses all the cpu cores#"
   ]
  },
  {
   "cell_type": "code",
   "execution_count": 5,
   "metadata": {},
   "outputs": [
    {
     "output_type": "execute_result",
     "data": {
      "text/plain": [
       "<pyspark.sql.session.SparkSession at 0x181a1411b80>"
      ],
      "text/html": "\n            <div>\n                <p><b>SparkSession - hive</b></p>\n                \n        <div>\n            <p><b>SparkContext</b></p>\n\n            <p><a href=\"http://windowsVM.zya15zcfgm1ehm5f0udlnoxavc.bx.internal.cloudapp.net:4040\">Spark UI</a></p>\n\n            <dl>\n              <dt>Version</dt>\n                <dd><code>v3.1.1</code></dd>\n              <dt>Master</dt>\n                <dd><code>local[*]</code></dd>\n              <dt>AppName</dt>\n                <dd><code>blahered</code></dd>\n            </dl>\n        </div>\n        \n            </div>\n        "
     },
     "metadata": {},
     "execution_count": 5
    }
   ],
   "source": [
    "spark"
   ]
  },
  {
   "cell_type": "code",
   "execution_count": 6,
   "metadata": {},
   "outputs": [],
   "source": [
    "sc = spark.sparkContext"
   ]
  },
  {
   "cell_type": "code",
   "execution_count": 7,
   "metadata": {},
   "outputs": [
    {
     "output_type": "execute_result",
     "data": {
      "text/plain": [
       ": Mon-Fri 9-18 GMT+8 \\r\\n\\r\\n\\r\\n\\r\\n \\r\\n\\r\\nFrom: Raghu Ram Mahankali (Quadrant Resource) <raghurama@quadrantresource.com> \\r\\nSent: Wednesday, April 14, 2021 10:52 PM\\r\\nTo: Yu Huang <yuhuang1@microsoftsupport.com>\\r\\nCc: rceop@microsoft.com\\r\\nSubject: RE: Help needed to execute python commands on jupyt... - TrackingID#2104120060004581\\r\\n\\r\\n \\r\\n\\r\\nAlso, I observed that any other function(to be precise, any generator) like glob/os.walk/Path/rglob that is trying to traverse the folders is getting into an infinite loop.\\r\\n\\r\\n \\r\\n\\r\\nThanks,\\r\\n\\r\\nRaghu Ram Mahankali.\\r\\n\\r\\n \\r\\n\\r\\nFrom: Raghu Ram Mahankali (Quadrant Resource) <mailto:raghurama@quadrantresource.com> \\r\\nSent: Wednesday, April 14, 2021 20:19\\r\\nTo: Yu Huang <mailto:yuhuang1@microsoftsupport.com> \\r\\nCc: rceop@microsoft.com <mailto:rceop@microsoft.com> \\r\\nSubject: RE: Help needed to execute python commands on jupyt... - TrackingID#2104120060004581\\r\\n\\r\\n \\r\\n\\r\\nHello Yu Huang,\\r\\n\\r\\n \\r\\n\\r\\nThanks for the inputs, the script action worked and the mounts are also successful, os.listdir is also working. Anyway the glob.glob command with recursion is running endless. Here is a screenshot.\\r\\n\\r\\n \\r\\n\\r\\n\\r\\n\\r\\n \\r\\n\\r\\nI had to stop it manually.\\r\\n\\r\\n \\r\\n\\r\\nThanks,\\r\\n\\r\\nRaghu Ram Mahankali.\\r\\n\\r\\nFrom: Yu Huang <mailto:yuhuang1@microsoftsupport.com> \\r\\nSent: Wednesday, April 14, 2021 12:33\\r\\nTo: Raghu Ram Mahankali (Quadrant Resource) <mailto:raghurama@quadrantresource.com> \\r\\nCc: rceop@microsoft.com <mailto:rceop@microsoft.com> \\r\\nSubject: RE: Help needed to execute python commands on jupyt... - TrackingID#2104120060004581\\r\\n\\r\\n \\r\\n\\r\\nHi Raghu,\\r\\n\\r\\n \\r\\n\\r\\nSure, you are right! Script action is a good idea for mounting files on the cluster nodes.\\r\\n\\r\\n \\r\\n\\r\\nActually I intended to share the suggestion on script action after confirming that mounting in all the nodes is helpful for this issue. 😊\\r\\n\\r\\n \\r\\n\\r\\nBest Regards,\\r\\n\\r\\n \\r\\n\\r\\nYu Huang | Support Engineer | APAC Big Data Support Team  \\r\\n\\r\\nTel. +86 (21) 52638969 | Email: yuhuang1@microsoft.com <mailto:yuhuang1@microsoft.com>  | Working Hours: Mon-Fri 9-18 GMT+8 \\r\\n\\r\\n\\r\\n\\r\\n \\r\\n\\r\\nFrom: Raghu Ram Mahankali (Quadrant Resource) <raghurama@quadrantresource.com <mailto:raghurama@quadrantresource.com> > \\r\\nSent: Wednesday, April 14, 2021 2:53 PM\\r\\nTo: Yu Huang <yuhuang1@microsoftsupport.com <mailto:yuhuang1@microsoftsupport.com> >\\r\\nCc: rceop@microsoft.com <mailto:rceop@microsoft.com> \\r\\nSubject: RE: Help needed to execute python commands on jupyt... - TrackingID#2104120060004581\\r\\n\\r\\n \\r\\n\\r\\nHi Yu Huang,\\r\\n\\r\\n \\r\\n\\r\\nI got your point. I believe the worker nodes are auto scalable and it is not very wise to use mount command on every worker node every time they are scaling up or down. I think using script action(persistent), we can be able to use the mount action on all the nodes even if they are auto scaling. Correct me if I’m wrong.\\r\\n\\r\\n \\r\\n\\r\\nThanks,\\r\\n\\r\\nRaghu Ram Mahankali.\\r\\n\\r\\nFrom: Yu Huang <mailto:yuhuang1@microsoftsupport.com> \\r\\nSent: Wednesday, April 14, 2021 12:06\\r\\nTo: Raghu Ram Mahankali (Quadrant Resource) <mailto:raghurama@quadrantresource.com> \\r\\nCc: rceop@microsoft.com <mailto:rceop@microsoft.com> \\r\\nSubject: RE: Help needed to execute python commands on jupyt... - TrackingID#2104120060004581\\r\\n\\r\\n \\r\\n\\r\\nHi Raghu,\\r\\n\\r\\n \\r\\n\\r\\nThanks for your response.\\r\\n\\r\\n \\r\\n\\r\\nI totally understand that it will be very cumbersome if we need to do glob.glob in every sub-directory. But as you mentioned that they have 7TB of files, it is hard that we directly handle all of them on one command line. I think use \"for each\" command to glob the sub-directory should be fine for this scenario.\\r\\n\\r\\n \\r\\n\\r\\nFor PySpark3 magic issue, I did more test on this. I had a misunderstanding before that this was related to python environment. The actual fact should be that if we use pyspark magic, Jupyter will generate a spark session on the cluster. Then the code will run on the application master node and executor nodes. As below screenshot shown, my test session is built in wn5, then the os list command return the directory which is located in wn5.\\r\\n\\r\\n \\r\\n\\r\\n\\r\\n\\r\\n \\r\\n\\r\\n\\r\\n\\r\\n \\r\\n\\r\\n\\r\\n\\r\\n \\r\\n\\r\\nHence, to make the mounted file be available for the cluster, please kindly mount the file in every cluster nodes. Then we should be able to directly use pyspark3 magic to run the os, glob command.\\r\\n\\r\\n \\r\\n\\r\\nIf you have question or concern within the scope, please feel free to let me know.\\r\\n\\r\\n \\r\\n\\r\\nBest Regards,\\r\\n\\r\\n \\r\\n\\r\\nYu Huang | Support Engineer | APAC Big Data Support Team  \\r\\n\\r\\nTel. +86 (21) 52638969 | Email: yuhuang1@microsoft.com <mailto:yuhuang1@microsoft.com>  | Working Hours: Mon-Fri 9-18 GMT+8 \\r\\n\\r\\n\\r\\n\\r\\n \\r\\n\\r\\n \\r\\n\\r\\nFrom: Raghu Ram Mahankali (Quadrant Resource) <raghurama@quadrantresource.com <mailto:raghurama@quadrantresource.com> > \\r\\nSent: Wednesday, April 14, 2021 1:21 PM\\r\\nTo: Yu Huang <yuhuang1@microsoftsupport.com <mailto:yuhuang1@microsoftsupport.com> >\\r\\nCc: rceop@microsoft.com <mailto:rceop@microsoft.com> \\r\\nSubject: RE: Help needed to execute python commands on jupyt... - TrackingID#2104120060004581\\r\\n\\r\\n \\r\\n\\r\\nHi Yu Huang,\\r\\n\\r\\n \\r\\n\\r\\nI understand what you are saying. But in the client scenario, they have around 7TB of files span across directories and subdirectories. It’s not practical to go into each folder and do glob.glob. Even if I do it, the list of file paths is not available outside the %%python magic scope. Also I need the pyspark environment to access that folder to be able to classify those files in a parallel processing perspective. I even tried changing the mount folder permissions. I gave rwx access to every user just to see if that helps but no use. Please advice what to do next.\\r\\n\\r\\n \\r\\n\\r\\nBest Regards\\r\\n\\r\\nRaghu Ram Mahankali.\\r\\n\\r\\nFrom: Yu Huang <mailto:yuhuang1@microsoftsupport.com> \\r\\nSent: Wednesday, April 14, 2021 07:35\\r\\nTo: Raghu Ram Mahankali (Quadrant Resource) <mailto:raghurama@quadrantresource.com> \\r\\nCc: rceop@microsoft.com <mailto:rceop@microsoft.com> \\r\\nSubject: RE: Help needed to execute python commands on jupyt... - TrackingID#2104120060004581\\r\\n\\r\\n \\r\\n\\r\\nHi Raghu,\\r\\n\\r\\n \\r\\n\\r\\nGreeting for the day!\\r\\n\\r\\n \\r\\n\\r\\nI did many test on your cluster. Below is brief summary for your reference:\\r\\n\\r\\n \\r\\n\\r\\n1.\\tFor the error “org/apache/livy/shaded/json4s/scalap/scalasig/SymbolInfoSymbol”, it appeared in the pyspark magic when I tried to list the file which is not exist . And it looks like the pyspark magic python environment cannot identify the mounted files.\\r\\n\\r\\n\\r\\n\\r\\n       \\r\\n\\r\\n\\r\\n\\r\\n \\r\\n\\r\\n2.\\tThen I changed to the %%python3, as below shown, it could successfully list the mounted file. \\r\\n\\r\\n\\r\\n\\r\\n3.\\tFor the infinitely looping issue, I found that if we directly load all the files, the code will be stuck. Then I tried to load the subdirectory …/all/test/neg/*.txt . It could be successfully finished.   \\r\\n\\r\\n \\r\\n\\r\\n\\r\\n\\r\\n \\r\\n\\r\\nAccording to below screenshot, there are 12500 files in one of the sub-directory. Sometimes too many files will cause lots of memory, or make the processing be stuck.\\r\\n\\r\\n  \\r\\n\\r\\n \\r\\n\\r\\nBased on above findings, we suggested that you can temporary use %%python3 magic to run the os, glob command. And there are 2 points need to be noted:\\r\\n\\r\\n1.\\tDouble check the file path.\\r\\n2.\\tUse glob command to handle the sub-directory one by one to avoid the too many files potential issue.\\r\\n\\r\\n \\r\\n\\r\\nIf you have question or concern within the scope, please feel free to let me know.\\r\\n\\r\\n \\r\\n\\r\\nBest Regards,\\r\\n\\r\\n \\r\\n\\r\\nYu Huang | Support Engineer | APAC Big Data Support Team  \\r\\n\\r\\nTel. +86 (21) 52638969 | Email: yuhuang1@microsoft.com <mailto:yuhuang1@microsoft.com>  | Working Hours: Mon-Fri 9-18 GMT+8 \\r\\n\\r\\n\\r\\n\\r\\n \\r\\n\\r\\n \\r\\n\\r\\n \\r\\n\\r\\n \\r\\n\\r\\nFrom: Raghu Ram Mahankali (Quadrant Resource) <raghurama@quadrantresource.com <mailto:raghurama@quadrantresource.com> > \\r\\nSent: Tuesday, April 13, 2021 6:06 PM\\r\\nTo: Yu Huang <yuhuang1@microsoftsupport.com <mailto:yuhuang1@microsoftsupport.com> >\\r\\nCc: rceop@microsoft.com <mailto:rceop@microsoft.com> \\r\\nSubject: RE: Help needed to execute python commands on jupyt... - TrackingID#2104120060004581\\r\\n\\r\\n \\r\\n\\r\\nHello Yu Huang,\\r\\n\\r\\n \\r\\n\\r\\nHope there is a positive news.\\r\\n\\r\\n \\r\\n\\r\\nThanks,\\r\\n\\r\\nRaghu Ram Mahankali.\\r\\n\\r\\nFrom: Raghu Ram Mahankali (Quadrant Resource) <mailto:raghurama@quadrantresource.com> \\r\\nSent: Tuesday, April 13, 2021 13:43\\r\\nTo: Yu Huang <mailto:yuhuang1@microsoftsupport.com> \\r\\nCc: rceop@microsoft.com <mailto:rceop@microsoft.com> \\r\\nSubject: RE: Help needed to execute python commands on jupyt... - TrackingID#2104120060004581\\r\\n\\r\\n \\r\\n\\r\\nHi Yu Huang,\\r\\n\\r\\n \\r\\n\\r\\nI understand what you are saying. Okay you can copy/create some random text files to the cluster(you can use /home/sshuser/localShare or you can make a new folder) and try to test them.\\r\\n\\r\\n \\r\\n\\r\\nGood luck,\\r\\n\\r\\nRaghu Ram Mahankali.\\r\\n\\r\\nFrom: Yu Huang <mailto:yuhuang1@microsoftsupport.com> \\r\\nSent: Tuesday, April 13, 2021 13:24\\r\\nTo: Raghu Ram Mahankali (Quadrant Resource) <mailto:raghurama@quadrantresource.com> \\r\\nCc: rceop@microsoft.com <mailto:rceop@microsoft.com> \\r\\nSubject: RE: Help needed to execute python commands on jupyt... - TrackingID#2104120060004581\\r\\n\\r\\n \\r\\n\\r\\nHi Raghu,\\r\\n\\r\\n \\r\\n\\r\\nThanks for your response and confirmation.\\r\\n\\r\\n \\r\\n\\r\\nYes, just for test, I want to confirm if the local file can be successfully handled so that we can narrow down the root cause. If the local file can be successfully handled, the API may not be available for the mounted file. \\r\\n\\r\\n \\r\\n\\r\\nI am going to access to your cluster and run some command to test. I will let you know if there is any update.\\r\\n\\r\\n \\r\\n\\r\\nBest Regards,\\r\\n\\r\\n \\r\\n\\r\\nYu Huang | Support Engineer | APAC Big Data Support Team  \\r\\n\\r\\nTel. +86 (21) 52638969 | Email: yuhuang1@microsoft.com <mailto:yuhuang1@microsoft.com>  | Working Hours: Mon-Fri 9-18 GMT+8 \\r\\n\\r\\n\\r\\n\\r\\n \\r\\n\\r\\nFrom: Raghu Ram Mahankali (Quadrant Resource) <raghurama@quadrantresource.com <mailto:raghurama@quadrantresource.com> > \\r\\nSent: Tuesday, April 13, 2021 3:40 PM\\r\\nTo: Yu Huang <yuhuang1@microsoftsupport.com <mailto:yuhuang1@microsoftsupport.com> >\\r\\nCc: rceop@microsoft.com <mailto:rceop@microsoft.com> \\r\\nSubject: RE: Help needed to execute python commands on jupyt... - TrackingID#2104120060004581\\r\\n\\r\\n \\r\\n\\r\\nHi Yu Huang,\\r\\n\\r\\n \\r\\n\\r\\nI didn’t get your question “is it possible that we can download the file into the cluster node first and retry the command to see if it could work?”. You want to store files(copy-paste) on the cluster instead of using mount? If that is the case, no we are not supposed to copy the files from VM to the cluster.\\r\\n\\r\\n \\r\\n\\r\\nConsent: Yes you can get into my cluster.\\r\\n\\r\\n \\r\\n\\r\\nThanks,\\r\\n\\r\\nRaghu Ram Mahankali.\\r\\n\\r\\nFrom: Yu Huang <mailto:yuhuang1@microsoftsupport.com> \\r\\nSent: Tuesday, April 13, 2021 13:04\\r\\nTo: Raghu Ram Mahankali (Quadrant Resource) <mailto:raghurama@quadrantresource.com> \\r\\nCc: rceop@microsoft.com <mailto:rceop@microsoft.com> \\r\\nSubject: RE: Help needed to execute python commands on jupyt... - TrackingID#2104120060004581\\r\\n\\r\\n \\r\\n\\r\\nHi Raghu,\\r\\n\\r\\n \\r\\n\\r\\nThanks for your detailed explanation.\\r\\n\\r\\n \\r\\n\\r\\nI understand that you tried to use os, glob command to handle some files which are located in other VM. To narrow down the scope of the issue, is it possible that we can download the file into the cluster node first and retry the command to see if it could work? \\r\\n\\r\\n \\r\\n\\r\\nIn addition to, May I ask if I can get your consent to your cluster and run the command to test to troubleshoot further? \\r\\n\\r\\n \\r\\n\\r\\nIf you have question or concern within the scope, please feel free to let me know.\\r\\n\\r\\n \\r\\n\\r\\nBest Regards,\\r\\n\\r\\n \\r\\n\\r\\nYu Huang | Support Engineer | APAC Big Data Support Team  \\r\\n\\r\\nTel. +86 (21) 52638969 | Email: yuhuang1@microsoft.com <mailto:yuhuang1@microsoft.com>  | Working Hours: Mon-Fri 9-18 GMT+8 \\r\\n\\r\\n\\r\\n\\r\\n \\r\\n\\r\\nFrom: Raghu Ram Mahankali (Quadrant Resource) <raghurama@quadrantresource.com <mailto:raghurama@quadrantresource.com> > \\r\\nSent: Tuesday, April 13, 2021 2:51 PM\\r\\nTo: Yu Huang <yuhuang1@microsoftsupport.com <mailto:yuhuang1@microsoftsupport.com> >\\r\\nCc: rceop@microsoft.com <mailto:rceop@microsoft.com> \\r\\nSubject: RE: Help needed to execute python commands on jupyt... - TrackingID#2104120060004581\\r\\n\\r\\n \\r\\n\\r\\nHi Yu Huang,\\r\\n\\r\\n \\r\\n\\r\\nI’m attaching the html version of the notebook for you.\\r\\n\\r\\n \\r\\n\\r\\nBest Regards,\\r\\n\\r\\nRaghu Ram Mahankali.\\r\\n\\r\\nE: raghurama@quadrantresource.com <mailto:raghurama@quadrantresource.com>  | https://www.quadrantresource.com/ <https://www.quadrantresource.com/> \\r\\n\\r\\n \\r\\n\\r\\n <https://www.quadrantresource.com/> \\r\\n\\r\\nFrom: Raghu Ram Mahankali (Quadrant Resource) <mailto:raghurama@quadrantresource.com> \\r\\nSent: Tuesday, April 13, 2021 12:07\\r\\nTo: Yu Huang <mailto:yuhuang1@microsoftsupport.com> \\r\\nCc: rceop@microsoft.com <mailto:rceop@microsoft.com> \\r\\nSubject: RE: Help needed to execute python commands on jupyt... - TrackingID#2104120060004581\\r\\n\\r\\n \\r\\n\\r\\nHi Yu Huang,\\r\\n\\r\\n \\r\\n\\r\\nAlright then.\\r\\n\\r\\nWe are trying to replicate a scenario with our client.\\r\\n\\r\\nWhat needs to be done: Client has massive data(file with extensions like .txt, .pdf, .msg etc) in a windows virtual machine and we need to apply a python code to classify the content of these files. We created a file share on the VM. Initially we thought of using databricks. We tried to mount the file share using terminal(sudo mount -t cifs). But databricks is not able to mount the file share even if the databricks workspace is in the same virtual network as of the windows VM.\\r\\n\\r\\n \\r\\n\\r\\nThe idea is to access the file share on a distributed computing environment with the capacity to run python 3.5+ code.\\r\\n\\r\\n \\r\\n\\r\\nSo we created a HDInsight cluster. We did the vnet peering between the HDInsight virtual network and windows VM virtual network. We logged into the cluster head node(hn0-az-hdi) using ssh login. From hno-az-hdi, we logged into hn1-az-hdi as the Jupyter notebook is deployed here. We used the command sudo mount -t cifs -o username=xxxx, //10.x.x.x/xxxx ./localShare to mount the file share on the hn1-az-hdi.\\r\\n\\r\\n \\r\\n\\r\\nNow the mount is working, I can see the files in the mount folder using %ls /home/sshuser/localShare/ in Jupyter notebook. But when I use glob.glob or os.walk on that path, either I’m getting an empty result or, this error message “org/apache/livy/shaded/json4s/scalap/scalasig/Type.”\\r\\n\\r\\n \\r\\n\\r\\nWhy I’m doing glob.glob or os.walk: To traverse the folders and subfolders recursively to create a dataframe like this.. \\r\\n\\r\\n \\r\\n\\r\\nfilePath\\r\\n\\r\\ncontent\\r\\n\\r\\n/mount-path/*/01.pdf\\r\\n\\r\\nFile contents read as text\\r\\n\\r\\n/mount-path/*/02.pdf\\r\\n\\r\\nFile contents read as text\\r\\n\\r\\n/mount-path/*/*/02.pdf\\r\\n\\r\\nFile contents read as text\\r\\n\\r\\n/mount-path/*/03.pdf\\r\\n\\r\\nFile contents read as text\\r\\n\\r\\n/mount-path/*/04.pdf\\r\\n\\r\\nFile contents read as text\\r\\n\\r\\nAnd so on….\\r\\n\\r\\n \\r\\n\\r\\nTo do this I need a library called glob. Glob has the ability to traverse the subfolders recursively. But that capability is added in python 3.5 or later. On this dataframe(or we can say on the contents of all the files in the target folder) I need to apply natural language algorithms using pyspark and save the table somewhere else.\\r\\n\\r\\n \\r\\n\\r\\nOther problems: If I use os.walk, the cell is stuck in an infinite loop. If I use %%local, I cannot use glob.glob recursive feature as %%local runs python 2.7.\\r\\n\\r\\n \\r\\n\\r\\nThat is pretty much what happened. Please revert me if you have any doubt or if something is not clear. I’m open to talk on MS Teams.\\r\\n\\r\\n \\r\\n\\r\\nBest Regards,\\r\\n\\r\\nRaghu Ram Mahankali.\\r\\n\\r\\nE: raghurama@quadrantresource.com <mailto:raghurama@quadrantresource.com>  | https://www.quadrantresource.com/ <https://www.quadrantresource.com/> \\r\\n\\r\\n <https://www.quadrantresource.com/> \\r\\n\\r\\n \\r\\n\\r\\nFrom: Yu Huang <mailto:yuhuang1@microsoftsupport.com> \\r\\nSent: Tuesday, April 13, 2021 11:24\\r\\nTo: Raghu Ram Mahankali (Quadrant Resource) <mailto:raghurama@quadrantresource.com> \\r\\nCc: rceop@microsoft.com <mailto:rceop@microsoft.com> \\r\\nSubject: RE: Help needed to execute python commands on jupyt... - TrackingID#2104120060004581\\r\\n\\r\\n \\r\\n\\r\\nHi Raghu,\\r\\n\\r\\n \\r\\n\\r\\nThanks for your quick response.\\r\\n\\r\\n \\r\\n\\r\\nIt will be better if you can explain it in this thread.\\r\\n\\r\\n \\r\\n\\r\\nThanks and Best Regards,\\r\\n\\r\\n \\r\\n\\r\\nYu Huang | Support Engineer | APAC Big Data Support Team  \\r\\n\\r\\nTel. +86 (21) 52638969 | Email: yuhuang1@microsoft.com <mailto:yuhuang1@microsoft.com>  | Working Hours: Mon-Fri 9-18 GMT+8 \\r\\n\\r\\n\\r\\n\\r\\n \\r\\n\\r\\nFrom: Raghu Ram Mahankali (Quadrant Resource) <raghurama@quadrantresource.com <mailto:raghurama@quadrantresource.com> > \\r\\nSent: Tuesday, April 13, 2021 1:51 PM\\r\\nTo: Yu Huang <yuhuang1@microsoftsupport.com <mailto:yuhuang1@microsoftsupport.com> >\\r\\nCc: rceop@microsoft.com <mailto:rceop@microsoft.com> \\r\\nSubject: RE: Help needed to execute python commands on jupyt... - TrackingID#2104120060004581\\r\\n\\r\\n \\r\\n\\r\\nHi Yu Huang,\\r\\n\\r\\n \\r\\n\\r\\nThank you for your response. My use case involves a series of steps. I can explain what needs to be done in this thread or we can arrange a call at a time of your convenience. Let me know which option you are okay with.\\r\\n\\r\\n \\r\\n\\r\\nBest Regards,\\r\\n\\r\\nRaghu Ram Mahankali.\\r\\n\\r\\nE: raghurama@quadrantresource.com <mailto:raghurama@quadrantresource.com>  | https://www.quadrantresource.com/ <https://www.quadrantresource.com/> \\r\\n\\r\\n \\r\\n\\r\\n <https://www.quadrantresource.com/> \\r\\n\\r\\n \\r\\n\\r\\nFrom: Yu Huang <mailto:yuhuang1@microsoftsupport.com> \\r\\nSent: Tuesday, April 13, 2021 11:10\\r\\nTo: Raghu Ram Mahankali (Quadrant Resource) <mailto:raghurama@quadrantresource.com> \\r\\nCc: rceop@microsoft.com <mailto:rceop@microsoft.com> \\r\\nSubject: Help needed to execute python commands on jupyt... - TrackingID#2104120060004581\\r\\n\\r\\n \\r\\n\\r\\nHello Raghu,\\r\\n \\r\\nThank you for contacting Microsoft Support. My name is Yu Huang.\\r\\n \\r\\nI am the Support Professional who will be working with you on this Service Request. You may reach me using the contact information listed below, referencing the SR number.\\r\\n \\r\\n\\r\\nIssue Definition: Help needed to execute python commands on jupyter notebook.\\r\\n\\r\\n\\r\\nScope Agreement: Help you to troubleshoot above issue and we can consider the ticket as solution delivered when we achieve either of the following:\\r\\n1) Permanently solve the issue.\\r\\n2) Give you a workaround that will help solve your business need.\\r\\n3) Explain that this situation you are experiencing is by design.\\r\\n4) Explain that what you are attempting to do cannot be supported by Microsoft.\\r\\n \\r\\nInitial Checking: \\r\\nMay I ask if all the python command cannot be successfully executed, or only some specified command? Could you please kindly share with me your notebook url so that we can troubleshoot further?\\r\\n \\r\\n  \\r\\nWe will now begin working together to resolve your issue. If you do not agree with the scope defined above, or would like to amend it, please let me know as soon as possible. If you have any questions or concerns, please don\\'t hesitate to contact me.\\r\\n \\r\\nBest Regards,\\r\\n \\r\\nYu Huang \\r\\n\\r\\nSupport Engineer \\r\\nData & AI  \\r\\nBig Data Support Team \\r\\n\\r\\nOffice:+86 (21) 52638969 \\r\\nMail:yuhuang1@microsoft.com <mailto:jiwu@microsoft.com>  \\r\\nWorking Hours: Mon-Fri 9:00-18:00 (GMT+8) \\r\\n\\r\\n \\r\\n\\r\\n \\r\\n\\r\\n \\r\\n\\r\\n \\r\\n\\r\\n \\r\\n\\r\\n \\r\\n\\r\\n \\r\\n\\r\\n \\r\\n\\r\\n \\r\\n\\r\\n \\r\\n\\r\\n \\r\\n\\r\\n \\r\\n\\r\\n'"
      ]
     },
     "metadata": {},
     "execution_count": 7
    }
   ],
   "source": [
    "from outlook_msg import Message\n",
    "\n",
    "with open(r'C:\\Users\\QuadAdmin\\Downloads\\files\\msg\\001.msg', \"r\", encoding=\"utf-8\") as msg_file:\n",
    "    msg = Message(msg_file)\n",
    "msg.body"
   ]
  },
  {
   "cell_type": "code",
   "execution_count": 8,
   "metadata": {},
   "outputs": [],
   "source": [
    "def readmsgFiles(file):\n",
    "    with open(file,\"r\", encoding=\"utf-8\") as msg_file:\n",
    "        msg = Message(msg_file)\n",
    "        msg_body = msg.body\n",
    "    return(re.sub('\\s+',\" \",msg_body).strip())"
   ]
  },
  {
   "cell_type": "code",
   "execution_count": 9,
   "metadata": {},
   "outputs": [
    {
     "output_type": "execute_result",
     "data": {
      "text/plain": [
       "'Hi Raghu, Thanks for your response. I am glad to hear os.listdir is working now. For the infinite loop issue, as mentioned in the previous email, if there are too many files while using the function (glob, path), it will take long time. Sometimes it may be failed with no error (stuck in infinite loop). Do you have a chance to look at how many files you were handling? I tried to login to your cluster to run the command to check further. But it seems that the cluster is deleted. May I ask if you have other action plan? If you have question or concern within the scope, please feel free to let me know. Best Regards, Yu Huang | Support Engineer | APAC Big Data Support Team Tel. +86 (21) 52638969 | Email: yuhuang1@microsoft.com | Working Hours: Mon-Fri 9-18 GMT+8 From: Raghu Ram Mahankali (Quadrant Resource) <raghurama@quadrantresource.com> Sent: Wednesday, April 14, 2021 10:52 PM To: Yu Huang <yuhuang1@microsoftsupport.com> Cc: rceop@microsoft.com Subject: RE: Help needed to execute python commands on jupyt... - TrackingID#2104120060004581 Also, I observed that any other function(to be precise, any generator) like glob/os.walk/Path/rglob that is trying to traverse the folders is getting into an infinite loop. Thanks, Raghu Ram Mahankali. From: Raghu Ram Mahankali (Quadrant Resource) <mailto:raghurama@quadrantresource.com> Sent: Wednesday, April 14, 2021 20:19 To: Yu Huang <mailto:yuhuang1@microsoftsupport.com> Cc: rceop@microsoft.com <mailto:rceop@microsoft.com> Subject: RE: Help needed to execute python commands on jupyt... - TrackingID#2104120060004581 Hello Yu Huang, Thanks for the inputs, the script action worked and the mounts are also successful, os.listdir is also working. Anyway the glob.glob command with recursion is running endless. Here is a screenshot. I had to stop it manually. Thanks, Raghu Ram Mahankali. From: Yu Huang <mailto:yuhuang1@microsoftsupport.com> Sent: Wednesday, April 14, 2021 12:33 To: Raghu Ram Mahankali (Quadrant Resource) <mailto:raghurama@quadrantresource.com> Cc: rceop@microsoft.com <mailto:rceop@microsoft.com> Subject: RE: Help needed to execute python commands on jupyt... - TrackingID#2104120060004581 Hi Raghu, Sure, you are right! Script action is a good idea for mounting files on the cluster nodes. Actually I intended to share the suggestion on script action after confirming that mounting in all the nodes is helpful for this issue. 😊 Best Regards, Yu Huang | Support Engineer | APAC Big Data Support Team Tel. +86 (21) 52638969 | Email: yuhuang1@microsoft.com <mailto:yuhuang1@microsoft.com> | Working Hours: Mon-Fri 9-18 GMT+8 From: Raghu Ram Mahankali (Quadrant Resource) <raghurama@quadrantresource.com <mailto:raghurama@quadrantresource.com> > Sent: Wednesday, April 14, 2021 2:53 PM To: Yu Huang <yuhuang1@microsoftsupport.com <mailto:yuhuang1@microsoftsupport.com> > Cc: rceop@microsoft.com <mailto:rceop@microsoft.com> Subject: RE: Help needed to execute python commands on jupyt... - TrackingID#2104120060004581 Hi Yu Huang, I got your point. I believe the worker nodes are auto scalable and it is not very wise to use mount command on every worker node every time they are scaling up or down. I think using script action(persistent), we can be able to use the mount action on all the nodes even if they are auto scaling. Correct me if I’m wrong. Thanks, Raghu Ram Mahankali. From: Yu Huang <mailto:yuhuang1@microsoftsupport.com> Sent: Wednesday, April 14, 2021 12:06 To: Raghu Ram Mahankali (Quadrant Resource) <mailto:raghurama@quadrantresource.com> Cc: rceop@microsoft.com <mailto:rceop@microsoft.com> Subject: RE: Help needed to execute python commands on jupyt... - TrackingID#2104120060004581 Hi Raghu, Thanks for your response. I totally understand that it will be very cumbersome if we need to do glob.glob in every sub-directory. But as you mentioned that they have 7TB of files, it is hard that we directly handle all of them on one command line. I think use \"for each\" command to glob the sub-directory should be fine for this scenario. For PySpark3 magic issue, I did more test on this. I had a misunderstanding before that this was related to python environment. The actual fact should be that if we use pyspark magic, Jupyter will generate a spark session on the cluster. Then the code will run on the application master node and executor nodes. As below screenshot shown, my test session is built in wn5, then the os list command return the directory which is located in wn5. Hence, to make the mounted file be available for the cluster, please kindly mount the file in every cluster nodes. Then we should be able to directly use pyspark3 magic to run the os, glob command. If you have question or concern within the scope, please feel free to let me know. Best Regards, Yu Huang | Support Engineer | APAC Big Data Support Team Tel. +86 (21) 52638969 | Email: yuhuang1@microsoft.com <mailto:yuhuang1@microsoft.com> | Working Hours: Mon-Fri 9-18 GMT+8 From: Raghu Ram Mahankali (Quadrant Resource) <raghurama@quadrantresource.com <mailto:raghurama@quadrantresource.com> > Sent: Wednesday, April 14, 2021 1:21 PM To: Yu Huang <yuhuang1@microsoftsupport.com <mailto:yuhuang1@microsoftsupport.com> > Cc: rceop@microsoft.com <mailto:rceop@microsoft.com> Subject: RE: Help needed to execute python commands on jupyt... - TrackingID#2104120060004581 Hi Yu Huang, I understand what you are saying. But in the client scenario, they have around 7TB of files span across directories and subdirectories. It’s not practical to go into each folder and do glob.glob. Even if I do it, the list of file paths is not available outside the %%python magic scope. Also I need the pyspark environment to access that folder to be able to classify those files in a parallel processing perspective. I even tried changing the mount folder permissions. I gave rwx access to every user just to see if that helps but no use. Please advice what to do next. Best Regards Raghu Ram Mahankali. From: Yu Huang <mailto:yuhuang1@microsoftsupport.com> Sent: Wednesday, April 14, 2021 07:35 To: Raghu Ram Mahankali (Quadrant Resource) <mailto:raghurama@quadrantresource.com> Cc: rceop@microsoft.com <mailto:rceop@microsoft.com> Subject: RE: Help needed to execute python commands on jupyt... - TrackingID#2104120060004581 Hi Raghu, Greeting for the day! I did many test on your cluster. Below is brief summary for your reference: 1. For the error “org/apache/livy/shaded/json4s/scalap/scalasig/SymbolInfoSymbol”, it appeared in the pyspark magic when I tried to list the file which is not exist . And it looks like the pyspark magic python environment cannot identify the mounted files. 2. Then I changed to the %%python3, as below shown, it could successfully list the mounted file. 3. For the infinitely looping issue, I found that if we directly load all the files, the code will be stuck. Then I tried to load the subdirectory …/all/test/neg/*.txt . It could be successfully finished. According to below screenshot, there are 12500 files in one of the sub-directory. Sometimes too many files will cause lots of memory, or make the processing be stuck. Based on above findings, we suggested that you can temporary use %%python3 magic to run the os, glob command. And there are 2 points need to be noted: 1. Double check the file path. 2. Use glob command to handle the sub-directory one by one to avoid the too many files potential issue. If you have question or concern within the scope, please feel free to let me know. Best Regards, Yu Huang | Support Engineer | APAC Big Data Support Team Tel. +86 (21) 52638969 | Email: yuhuang1@microsoft.com <mailto:yuhuang1@microsoft.com> | Working Hours: Mon-Fri 9-18 GMT+8 From: Raghu Ram Mahankali (Quadrant Resource) <raghurama@quadrantresource.com <mailto:raghurama@quadrantresource.com> > Sent: Tuesday, April 13, 2021 6:06 PM To: Yu Huang <yuhuang1@microsoftsupport.com <mailto:yuhuang1@microsoftsupport.com> > Cc: rceop@microsoft.com <mailto:rceop@microsoft.com> Subject: RE: Help needed to execute python commands on jupyt... - TrackingID#2104120060004581 Hello Yu Huang, Hope there is a positive news. Thanks, Raghu Ram Mahankali. From: Raghu Ram Mahankali (Quadrant Resource) <mailto:raghurama@quadrantresource.com> Sent: Tuesday, April 13, 2021 13:43 To: Yu Huang <mailto:yuhuang1@microsoftsupport.com> Cc: rceop@microsoft.com <mailto:rceop@microsoft.com> Subject: RE: Help needed to execute python commands on jupyt... - TrackingID#2104120060004581 Hi Yu Huang, I understand what you are saying. Okay you can copy/create some random text files to the cluster(you can use /home/sshuser/localShare or you can make a new folder) and try to test them. Good luck, Raghu Ram Mahankali. From: Yu Huang <mailto:yuhuang1@microsoftsupport.com> Sent: Tuesday, April 13, 2021 13:24 To: Raghu Ram Mahankali (Quadrant Resource) <mailto:raghurama@quadrantresource.com> Cc: rceop@microsoft.com <mailto:rceop@microsoft.com> Subject: RE: Help needed to execute python commands on jupyt... - TrackingID#2104120060004581 Hi Raghu, Thanks for your response and confirmation. Yes, just for test, I want to confirm if the local file can be successfully handled so that we can narrow down the root cause. If the local file can be successfully handled, the API may not be available for the mounted file. I am going to access to your cluster and run some command to test. I will let you know if there is any update. Best Regards, Yu Huang | Support Engineer | APAC Big Data Support Team Tel. +86 (21) 52638969 | Email: yuhuang1@microsoft.com <mailto:yuhuang1@microsoft.com> | Working Hours: Mon-Fri 9-18 GMT+8 From: Raghu Ram Mahankali (Quadrant Resource) <raghurama@quadrantresource.com <mailto:raghurama@quadrantresource.com> > Sent: Tuesday, April 13, 2021 3:40 PM To: Yu Huang <yuhuang1@microsoftsupport.com <mailto:yuhuang1@microsoftsupport.com> > Cc: rceop@microsoft.com <mailto:rceop@microsoft.com> Subject: RE: Help needed to execute python commands on jupyt... - TrackingID#2104120060004581 Hi Yu Huang, I didn’t get your question “is it possible that we can download the file into the cluster node first and retry the command to see if it could work?”. You want to store files(copy-paste) on the cluster instead of using mount? If that is the case, no we are not supposed to copy the files from VM to the cluster. Consent: Yes you can get into my cluster. Thanks, Raghu Ram Mahankali. From: Yu Huang <mailto:yuhuang1@microsoftsupport.com> Sent: Tuesday, April 13, 2021 13:04 To: Raghu Ram Mahankali (Quadrant Resource) <mailto:raghurama@quadrantresource.com> Cc: rceop@microsoft.com <mailto:rceop@microsoft.com> Subject: RE: Help needed to execute python commands on jupyt... - TrackingID#2104120060004581 Hi Raghu, Thanks for your detailed explanation. I understand that you tried to use os, glob command to handle some files which are located in other VM. To narrow down the scope of the issue, is it possible that we can download the file into the cluster node first and retry the command to see if it could work? In addition to, May I ask if I can get your consent to your cluster and run the command to test to troubleshoot further? If you have question or concern within the scope, please feel free to let me know. Best Regards, Yu Huang | Support Engineer | APAC Big Data Support Team Tel. +86 (21) 52638969 | Email: yuhuang1@microsoft.com <mailto:yuhuang1@microsoft.com> | Working Hours: Mon-Fri 9-18 GMT+8 From: Raghu Ram Mahankali (Quadrant Resource) <raghurama@quadrantresource.com <mailto:raghurama@quadrantresource.com> > Sent: Tuesday, April 13, 2021 2:51 PM To: Yu Huang <yuhuang1@microsoftsupport.com <mailto:yuhuang1@microsoftsupport.com> > Cc: rceop@microsoft.com <mailto:rceop@microsoft.com> Subject: RE: Help needed to execute python commands on jupyt... - TrackingID#2104120060004581 Hi Yu Huang, I’m attaching the html version of the notebook for you. Best Regards, Raghu Ram Mahankali. E: raghurama@quadrantresource.com <mailto:raghurama@quadrantresource.com> | https://www.quadrantresource.com/ <https://www.quadrantresource.com/> <https://www.quadrantresource.com/> From: Raghu Ram Mahankali (Quadrant Resource) <mailto:raghurama@quadrantresource.com> Sent: Tuesday, April 13, 2021 12:07 To: Yu Huang <mailto:yuhuang1@microsoftsupport.com> Cc: rceop@microsoft.com <mailto:rceop@microsoft.com> Subject: RE: Help needed to execute python commands on jupyt... - TrackingID#2104120060004581 Hi Yu Huang, Alright then. We are trying to replicate a scenario with our client. What needs to be done: Client has massive data(file with extensions like .txt, .pdf, .msg etc) in a windows virtual machine and we need to apply a python code to classify the content of these files. We created a file share on the VM. Initially we thought of using databricks. We tried to mount the file share using terminal(sudo mount -t cifs). But databricks is not able to mount the file share even if the databricks workspace is in the same virtual network as of the windows VM. The idea is to access the file share on a distributed computing environment with the capacity to run python 3.5+ code. So we created a HDInsight cluster. We did the vnet peering between the HDInsight virtual network and windows VM virtual network. We logged into the cluster head node(hn0-az-hdi) using ssh login. From hno-az-hdi, we logged into hn1-az-hdi as the Jupyter notebook is deployed here. We used the command sudo mount -t cifs -o username=xxxx, //10.x.x.x/xxxx ./localShare to mount the file share on the hn1-az-hdi. Now the mount is working, I can see the files in the mount folder using %ls /home/sshuser/localShare/ in Jupyter notebook. But when I use glob.glob or os.walk on that path, either I’m getting an empty result or, this error message “org/apache/livy/shaded/json4s/scalap/scalasig/Type.” Why I’m doing glob.glob or os.walk: To traverse the folders and subfolders recursively to create a dataframe like this.. filePath content /mount-path/*/01.pdf File contents read as text /mount-path/*/02.pdf File contents read as text /mount-path/*/*/02.pdf File contents read as text /mount-path/*/03.pdf File contents read as text /mount-path/*/04.pdf File contents read as text And so on…. To do this I need a library called glob. Glob has the ability to traverse the subfolders recursively. But that capability is added in python 3.5 or later. On this dataframe(or we can say on the contents of all the files in the target folder) I need to apply natural language algorithms using pyspark and save the table somewhere else. Other problems: If I use os.walk, the cell is stuck in an infinite loop. If I use %%local, I cannot use glob.glob recursive feature as %%local runs python 2.7. That is pretty much what happened. Please revert me if you have any doubt or if something is not clear. I’m open to talk on MS Teams. Best Regards, Raghu Ram Mahankali. E: raghurama@quadrantresource.com <mailto:raghurama@quadrantresource.com> | https://www.quadrantresource.com/ <https://www.quadrantresource.com/> <https://www.quadrantresource.com/> From: Yu Huang <mailto:yuhuang1@microsoftsupport.com> Sent: Tuesday, April 13, 2021 11:24 To: Raghu Ram Mahankali (Quadrant Resource) <mailto:raghurama@quadrantresource.com> Cc: rceop@microsoft.com <mailto:rceop@microsoft.com> Subject: RE: Help needed to execute python commands on jupyt... - TrackingID#2104120060004581 Hi Raghu, Thanks for your quick response. It will be better if you can explain it in this thread. Thanks and Best Regards, Yu Huang | Support Engineer | APAC Big Data Support Team Tel. +86 (21) 52638969 | Email: yuhuang1@microsoft.com <mailto:yuhuang1@microsoft.com> | Working Hours: Mon-Fri 9-18 GMT+8 From: Raghu Ram Mahankali (Quadrant Resource) <raghurama@quadrantresource.com <mailto:raghurama@quadrantresource.com> > Sent: Tuesday, April 13, 2021 1:51 PM To: Yu Huang <yuhuang1@microsoftsupport.com <mailto:yuhuang1@microsoftsupport.com> > Cc: rceop@microsoft.com <mailto:rceop@microsoft.com> Subject: RE: Help needed to execute python commands on jupyt... - TrackingID#2104120060004581 Hi Yu Huang, Thank you for your response. My use case involves a series of steps. I can explain what needs to be done in this thread or we can arrange a call at a time of your convenience. Let me know which option you are okay with. Best Regards, Raghu Ram Mahankali. E: raghurama@quadrantresource.com <mailto:raghurama@quadrantresource.com> | https://www.quadrantresource.com/ <https://www.quadrantresource.com/> <https://www.quadrantresource.com/> From: Yu Huang <mailto:yuhuang1@microsoftsupport.com> Sent: Tuesday, April 13, 2021 11:10 To: Raghu Ram Mahankali (Quadrant Resource) <mailto:raghurama@quadrantresource.com> Cc: rceop@microsoft.com <mailto:rceop@microsoft.com> Subject: Help needed to execute python commands on jupyt... - TrackingID#2104120060004581 Hello Raghu, Thank you for contacting Microsoft Support. My name is Yu Huang. I am the Support Professional who will be working with you on this Service Request. You may reach me using the contact information listed below, referencing the SR number. Issue Definition: Help needed to execute python commands on jupyter notebook. Scope Agreement: Help you to troubleshoot above issue and we can consider the ticket as solution delivered when we achieve either of the following: 1) Permanently solve the issue. 2) Give you a workaround that will help solve your business need. 3) Explain that this situation you are experiencing is by design. 4) Explain that what you are attempting to do cannot be supported by Microsoft. Initial Checking: May I ask if all the python command cannot be successfully executed, or only some specified command? Could you please kindly share with me your notebook url so that we can troubleshoot further? We will now begin working together to resolve your issue. If you do not agree with the scope defined above, or would like to amend it, please let me know as soon as possible. If you have any questions or concerns, please don\\'t hesitate to contact me. Best Regards, Yu Huang Support Engineer Data & AI Big Data Support Team Office:+86 (21) 52638969 Mail:yuhuang1@microsoft.com <mailto:jiwu@microsoft.com> Working Hours: Mon-Fri 9:00-18:00 (GMT+8)'"
      ]
     },
     "metadata": {},
     "execution_count": 9
    }
   ],
   "source": [
    "readmsgFiles(r'C:\\Users\\QuadAdmin\\Downloads\\files\\msg\\001.msg')"
   ]
  },
  {
   "cell_type": "code",
   "execution_count": 10,
   "metadata": {},
   "outputs": [
    {
     "output_type": "stream",
     "name": "stdout",
     "text": [
      "Wall time: 623 ms\n"
     ]
    }
   ],
   "source": [
    "%%time\n",
    "DF = pd.DataFrame(columns=[\"fileName\", \"text\"])\n",
    "st_time = time.time()\n",
    "paths = glob.glob(r'C:\\Users\\QuadAdmin\\Downloads\\files\\**\\*.msg',recursive = True)"
   ]
  },
  {
   "cell_type": "code",
   "execution_count": 11,
   "metadata": {},
   "outputs": [
    {
     "output_type": "execute_result",
     "data": {
      "text/plain": [
       "73764"
      ]
     },
     "metadata": {},
     "execution_count": 11
    }
   ],
   "source": [
    "len(paths)"
   ]
  },
  {
   "cell_type": "code",
   "execution_count": 12,
   "metadata": {},
   "outputs": [],
   "source": [
    "DF[\"fileName\"] = paths"
   ]
  },
  {
   "cell_type": "code",
   "execution_count": 13,
   "metadata": {},
   "outputs": [
    {
     "output_type": "execute_result",
     "data": {
      "text/plain": [
       "                                              fileName text\n",
       "0       C:\\Users\\QuadAdmin\\Downloads\\files\\msg\\001.msg  NaN\n",
       "1         C:\\Users\\QuadAdmin\\Downloads\\files\\msg\\1.msg  NaN\n",
       "2        C:\\Users\\QuadAdmin\\Downloads\\files\\msg\\10.msg  NaN\n",
       "3       C:\\Users\\QuadAdmin\\Downloads\\files\\msg\\100.msg  NaN\n",
       "4      C:\\Users\\QuadAdmin\\Downloads\\files\\msg\\1000.msg  NaN\n",
       "...                                                ...  ...\n",
       "73759  C:\\Users\\QuadAdmin\\Downloads\\files\\msg\\9995.msg  NaN\n",
       "73760  C:\\Users\\QuadAdmin\\Downloads\\files\\msg\\9996.msg  NaN\n",
       "73761  C:\\Users\\QuadAdmin\\Downloads\\files\\msg\\9997.msg  NaN\n",
       "73762  C:\\Users\\QuadAdmin\\Downloads\\files\\msg\\9998.msg  NaN\n",
       "73763  C:\\Users\\QuadAdmin\\Downloads\\files\\msg\\9999.msg  NaN\n",
       "\n",
       "[73764 rows x 2 columns]"
      ],
      "text/html": "<div>\n<style scoped>\n    .dataframe tbody tr th:only-of-type {\n        vertical-align: middle;\n    }\n\n    .dataframe tbody tr th {\n        vertical-align: top;\n    }\n\n    .dataframe thead th {\n        text-align: right;\n    }\n</style>\n<table border=\"1\" class=\"dataframe\">\n  <thead>\n    <tr style=\"text-align: right;\">\n      <th></th>\n      <th>fileName</th>\n      <th>text</th>\n    </tr>\n  </thead>\n  <tbody>\n    <tr>\n      <th>0</th>\n      <td>C:\\Users\\QuadAdmin\\Downloads\\files\\msg\\001.msg</td>\n      <td>NaN</td>\n    </tr>\n    <tr>\n      <th>1</th>\n      <td>C:\\Users\\QuadAdmin\\Downloads\\files\\msg\\1.msg</td>\n      <td>NaN</td>\n    </tr>\n    <tr>\n      <th>2</th>\n      <td>C:\\Users\\QuadAdmin\\Downloads\\files\\msg\\10.msg</td>\n      <td>NaN</td>\n    </tr>\n    <tr>\n      <th>3</th>\n      <td>C:\\Users\\QuadAdmin\\Downloads\\files\\msg\\100.msg</td>\n      <td>NaN</td>\n    </tr>\n    <tr>\n      <th>4</th>\n      <td>C:\\Users\\QuadAdmin\\Downloads\\files\\msg\\1000.msg</td>\n      <td>NaN</td>\n    </tr>\n    <tr>\n      <th>...</th>\n      <td>...</td>\n      <td>...</td>\n    </tr>\n    <tr>\n      <th>73759</th>\n      <td>C:\\Users\\QuadAdmin\\Downloads\\files\\msg\\9995.msg</td>\n      <td>NaN</td>\n    </tr>\n    <tr>\n      <th>73760</th>\n      <td>C:\\Users\\QuadAdmin\\Downloads\\files\\msg\\9996.msg</td>\n      <td>NaN</td>\n    </tr>\n    <tr>\n      <th>73761</th>\n      <td>C:\\Users\\QuadAdmin\\Downloads\\files\\msg\\9997.msg</td>\n      <td>NaN</td>\n    </tr>\n    <tr>\n      <th>73762</th>\n      <td>C:\\Users\\QuadAdmin\\Downloads\\files\\msg\\9998.msg</td>\n      <td>NaN</td>\n    </tr>\n    <tr>\n      <th>73763</th>\n      <td>C:\\Users\\QuadAdmin\\Downloads\\files\\msg\\9999.msg</td>\n      <td>NaN</td>\n    </tr>\n  </tbody>\n</table>\n<p>73764 rows × 2 columns</p>\n</div>"
     },
     "metadata": {},
     "execution_count": 13
    }
   ],
   "source": [
    "DF"
   ]
  },
  {
   "cell_type": "code",
   "execution_count": 14,
   "metadata": {},
   "outputs": [
    {
     "output_type": "execute_result",
     "data": {
      "text/plain": [
       "'Hi Raghu, Thanks for your response. I am glad to hear os.listdir is working now. For the infinite loop issue, as mentioned in the previous email, if there are too many files while using the function (glob, path), it will take long time. Sometimes it may be failed with no error (stuck in infinite loop). Do you have a chance to look at how many files you were handling? I tried to login to your cluster to run the command to check further. But it seems that the cluster is deleted. May I ask if you have other action plan? If you have question or concern within the scope, please feel free to let me know. Best Regards, Yu Huang | Support Engineer | APAC Big Data Support Team Tel. +86 (21) 52638969 | Email: yuhuang1@microsoft.com | Working Hours: Mon-Fri 9-18 GMT+8 From: Raghu Ram Mahankali (Quadrant Resource) <raghurama@quadrantresource.com> Sent: Wednesday, April 14, 2021 10:52 PM To: Yu Huang <yuhuang1@microsoftsupport.com> Cc: rceop@microsoft.com Subject: RE: Help needed to execute python commands on jupyt... - TrackingID#2104120060004581 Also, I observed that any other function(to be precise, any generator) like glob/os.walk/Path/rglob that is trying to traverse the folders is getting into an infinite loop. Thanks, Raghu Ram Mahankali. From: Raghu Ram Mahankali (Quadrant Resource) <mailto:raghurama@quadrantresource.com> Sent: Wednesday, April 14, 2021 20:19 To: Yu Huang <mailto:yuhuang1@microsoftsupport.com> Cc: rceop@microsoft.com <mailto:rceop@microsoft.com> Subject: RE: Help needed to execute python commands on jupyt... - TrackingID#2104120060004581 Hello Yu Huang, Thanks for the inputs, the script action worked and the mounts are also successful, os.listdir is also working. Anyway the glob.glob command with recursion is running endless. Here is a screenshot. I had to stop it manually. Thanks, Raghu Ram Mahankali. From: Yu Huang <mailto:yuhuang1@microsoftsupport.com> Sent: Wednesday, April 14, 2021 12:33 To: Raghu Ram Mahankali (Quadrant Resource) <mailto:raghurama@quadrantresource.com> Cc: rceop@microsoft.com <mailto:rceop@microsoft.com> Subject: RE: Help needed to execute python commands on jupyt... - TrackingID#2104120060004581 Hi Raghu, Sure, you are right! Script action is a good idea for mounting files on the cluster nodes. Actually I intended to share the suggestion on script action after confirming that mounting in all the nodes is helpful for this issue. 😊 Best Regards, Yu Huang | Support Engineer | APAC Big Data Support Team Tel. +86 (21) 52638969 | Email: yuhuang1@microsoft.com <mailto:yuhuang1@microsoft.com> | Working Hours: Mon-Fri 9-18 GMT+8 From: Raghu Ram Mahankali (Quadrant Resource) <raghurama@quadrantresource.com <mailto:raghurama@quadrantresource.com> > Sent: Wednesday, April 14, 2021 2:53 PM To: Yu Huang <yuhuang1@microsoftsupport.com <mailto:yuhuang1@microsoftsupport.com> > Cc: rceop@microsoft.com <mailto:rceop@microsoft.com> Subject: RE: Help needed to execute python commands on jupyt... - TrackingID#2104120060004581 Hi Yu Huang, I got your point. I believe the worker nodes are auto scalable and it is not very wise to use mount command on every worker node every time they are scaling up or down. I think using script action(persistent), we can be able to use the mount action on all the nodes even if they are auto scaling. Correct me if I’m wrong. Thanks, Raghu Ram Mahankali. From: Yu Huang <mailto:yuhuang1@microsoftsupport.com> Sent: Wednesday, April 14, 2021 12:06 To: Raghu Ram Mahankali (Quadrant Resource) <mailto:raghurama@quadrantresource.com> Cc: rceop@microsoft.com <mailto:rceop@microsoft.com> Subject: RE: Help needed to execute python commands on jupyt... - TrackingID#2104120060004581 Hi Raghu, Thanks for your response. I totally understand that it will be very cumbersome if we need to do glob.glob in every sub-directory. But as you mentioned that they have 7TB of files, it is hard that we directly handle all of them on one command line. I think use \"for each\" command to glob the sub-directory should be fine for this scenario. For PySpark3 magic issue, I did more test on this. I had a misunderstanding before that this was related to python environment. The actual fact should be that if we use pyspark magic, Jupyter will generate a spark session on the cluster. Then the code will run on the application master node and executor nodes. As below screenshot shown, my test session is built in wn5, then the os list command return the directory which is located in wn5. Hence, to make the mounted file be available for the cluster, please kindly mount the file in every cluster nodes. Then we should be able to directly use pyspark3 magic to run the os, glob command. If you have question or concern within the scope, please feel free to let me know. Best Regards, Yu Huang | Support Engineer | APAC Big Data Support Team Tel. +86 (21) 52638969 | Email: yuhuang1@microsoft.com <mailto:yuhuang1@microsoft.com> | Working Hours: Mon-Fri 9-18 GMT+8 From: Raghu Ram Mahankali (Quadrant Resource) <raghurama@quadrantresource.com <mailto:raghurama@quadrantresource.com> > Sent: Wednesday, April 14, 2021 1:21 PM To: Yu Huang <yuhuang1@microsoftsupport.com <mailto:yuhuang1@microsoftsupport.com> > Cc: rceop@microsoft.com <mailto:rceop@microsoft.com> Subject: RE: Help needed to execute python commands on jupyt... - TrackingID#2104120060004581 Hi Yu Huang, I understand what you are saying. But in the client scenario, they have around 7TB of files span across directories and subdirectories. It’s not practical to go into each folder and do glob.glob. Even if I do it, the list of file paths is not available outside the %%python magic scope. Also I need the pyspark environment to access that folder to be able to classify those files in a parallel processing perspective. I even tried changing the mount folder permissions. I gave rwx access to every user just to see if that helps but no use. Please advice what to do next. Best Regards Raghu Ram Mahankali. From: Yu Huang <mailto:yuhuang1@microsoftsupport.com> Sent: Wednesday, April 14, 2021 07:35 To: Raghu Ram Mahankali (Quadrant Resource) <mailto:raghurama@quadrantresource.com> Cc: rceop@microsoft.com <mailto:rceop@microsoft.com> Subject: RE: Help needed to execute python commands on jupyt... - TrackingID#2104120060004581 Hi Raghu, Greeting for the day! I did many test on your cluster. Below is brief summary for your reference: 1. For the error “org/apache/livy/shaded/json4s/scalap/scalasig/SymbolInfoSymbol”, it appeared in the pyspark magic when I tried to list the file which is not exist . And it looks like the pyspark magic python environment cannot identify the mounted files. 2. Then I changed to the %%python3, as below shown, it could successfully list the mounted file. 3. For the infinitely looping issue, I found that if we directly load all the files, the code will be stuck. Then I tried to load the subdirectory …/all/test/neg/*.txt . It could be successfully finished. According to below screenshot, there are 12500 files in one of the sub-directory. Sometimes too many files will cause lots of memory, or make the processing be stuck. Based on above findings, we suggested that you can temporary use %%python3 magic to run the os, glob command. And there are 2 points need to be noted: 1. Double check the file path. 2. Use glob command to handle the sub-directory one by one to avoid the too many files potential issue. If you have question or concern within the scope, please feel free to let me know. Best Regards, Yu Huang | Support Engineer | APAC Big Data Support Team Tel. +86 (21) 52638969 | Email: yuhuang1@microsoft.com <mailto:yuhuang1@microsoft.com> | Working Hours: Mon-Fri 9-18 GMT+8 From: Raghu Ram Mahankali (Quadrant Resource) <raghurama@quadrantresource.com <mailto:raghurama@quadrantresource.com> > Sent: Tuesday, April 13, 2021 6:06 PM To: Yu Huang <yuhuang1@microsoftsupport.com <mailto:yuhuang1@microsoftsupport.com> > Cc: rceop@microsoft.com <mailto:rceop@microsoft.com> Subject: RE: Help needed to execute python commands on jupyt... - TrackingID#2104120060004581 Hello Yu Huang, Hope there is a positive news. Thanks, Raghu Ram Mahankali. From: Raghu Ram Mahankali (Quadrant Resource) <mailto:raghurama@quadrantresource.com> Sent: Tuesday, April 13, 2021 13:43 To: Yu Huang <mailto:yuhuang1@microsoftsupport.com> Cc: rceop@microsoft.com <mailto:rceop@microsoft.com> Subject: RE: Help needed to execute python commands on jupyt... - TrackingID#2104120060004581 Hi Yu Huang, I understand what you are saying. Okay you can copy/create some random text files to the cluster(you can use /home/sshuser/localShare or you can make a new folder) and try to test them. Good luck, Raghu Ram Mahankali. From: Yu Huang <mailto:yuhuang1@microsoftsupport.com> Sent: Tuesday, April 13, 2021 13:24 To: Raghu Ram Mahankali (Quadrant Resource) <mailto:raghurama@quadrantresource.com> Cc: rceop@microsoft.com <mailto:rceop@microsoft.com> Subject: RE: Help needed to execute python commands on jupyt... - TrackingID#2104120060004581 Hi Raghu, Thanks for your response and confirmation. Yes, just for test, I want to confirm if the local file can be successfully handled so that we can narrow down the root cause. If the local file can be successfully handled, the API may not be available for the mounted file. I am going to access to your cluster and run some command to test. I will let you know if there is any update. Best Regards, Yu Huang | Support Engineer | APAC Big Data Support Team Tel. +86 (21) 52638969 | Email: yuhuang1@microsoft.com <mailto:yuhuang1@microsoft.com> | Working Hours: Mon-Fri 9-18 GMT+8 From: Raghu Ram Mahankali (Quadrant Resource) <raghurama@quadrantresource.com <mailto:raghurama@quadrantresource.com> > Sent: Tuesday, April 13, 2021 3:40 PM To: Yu Huang <yuhuang1@microsoftsupport.com <mailto:yuhuang1@microsoftsupport.com> > Cc: rceop@microsoft.com <mailto:rceop@microsoft.com> Subject: RE: Help needed to execute python commands on jupyt... - TrackingID#2104120060004581 Hi Yu Huang, I didn’t get your question “is it possible that we can download the file into the cluster node first and retry the command to see if it could work?”. You want to store files(copy-paste) on the cluster instead of using mount? If that is the case, no we are not supposed to copy the files from VM to the cluster. Consent: Yes you can get into my cluster. Thanks, Raghu Ram Mahankali. From: Yu Huang <mailto:yuhuang1@microsoftsupport.com> Sent: Tuesday, April 13, 2021 13:04 To: Raghu Ram Mahankali (Quadrant Resource) <mailto:raghurama@quadrantresource.com> Cc: rceop@microsoft.com <mailto:rceop@microsoft.com> Subject: RE: Help needed to execute python commands on jupyt... - TrackingID#2104120060004581 Hi Raghu, Thanks for your detailed explanation. I understand that you tried to use os, glob command to handle some files which are located in other VM. To narrow down the scope of the issue, is it possible that we can download the file into the cluster node first and retry the command to see if it could work? In addition to, May I ask if I can get your consent to your cluster and run the command to test to troubleshoot further? If you have question or concern within the scope, please feel free to let me know. Best Regards, Yu Huang | Support Engineer | APAC Big Data Support Team Tel. +86 (21) 52638969 | Email: yuhuang1@microsoft.com <mailto:yuhuang1@microsoft.com> | Working Hours: Mon-Fri 9-18 GMT+8 From: Raghu Ram Mahankali (Quadrant Resource) <raghurama@quadrantresource.com <mailto:raghurama@quadrantresource.com> > Sent: Tuesday, April 13, 2021 2:51 PM To: Yu Huang <yuhuang1@microsoftsupport.com <mailto:yuhuang1@microsoftsupport.com> > Cc: rceop@microsoft.com <mailto:rceop@microsoft.com> Subject: RE: Help needed to execute python commands on jupyt... - TrackingID#2104120060004581 Hi Yu Huang, I’m attaching the html version of the notebook for you. Best Regards, Raghu Ram Mahankali. E: raghurama@quadrantresource.com <mailto:raghurama@quadrantresource.com> | https://www.quadrantresource.com/ <https://www.quadrantresource.com/> <https://www.quadrantresource.com/> From: Raghu Ram Mahankali (Quadrant Resource) <mailto:raghurama@quadrantresource.com> Sent: Tuesday, April 13, 2021 12:07 To: Yu Huang <mailto:yuhuang1@microsoftsupport.com> Cc: rceop@microsoft.com <mailto:rceop@microsoft.com> Subject: RE: Help needed to execute python commands on jupyt... - TrackingID#2104120060004581 Hi Yu Huang, Alright then. We are trying to replicate a scenario with our client. What needs to be done: Client has massive data(file with extensions like .txt, .pdf, .msg etc) in a windows virtual machine and we need to apply a python code to classify the content of these files. We created a file share on the VM. Initially we thought of using databricks. We tried to mount the file share using terminal(sudo mount -t cifs). But databricks is not able to mount the file share even if the databricks workspace is in the same virtual network as of the windows VM. The idea is to access the file share on a distributed computing environment with the capacity to run python 3.5+ code. So we created a HDInsight cluster. We did the vnet peering between the HDInsight virtual network and windows VM virtual network. We logged into the cluster head node(hn0-az-hdi) using ssh login. From hno-az-hdi, we logged into hn1-az-hdi as the Jupyter notebook is deployed here. We used the command sudo mount -t cifs -o username=xxxx, //10.x.x.x/xxxx ./localShare to mount the file share on the hn1-az-hdi. Now the mount is working, I can see the files in the mount folder using %ls /home/sshuser/localShare/ in Jupyter notebook. But when I use glob.glob or os.walk on that path, either I’m getting an empty result or, this error message “org/apache/livy/shaded/json4s/scalap/scalasig/Type.” Why I’m doing glob.glob or os.walk: To traverse the folders and subfolders recursively to create a dataframe like this.. filePath content /mount-path/*/01.pdf File contents read as text /mount-path/*/02.pdf File contents read as text /mount-path/*/*/02.pdf File contents read as text /mount-path/*/03.pdf File contents read as text /mount-path/*/04.pdf File contents read as text And so on…. To do this I need a library called glob. Glob has the ability to traverse the subfolders recursively. But that capability is added in python 3.5 or later. On this dataframe(or we can say on the contents of all the files in the target folder) I need to apply natural language algorithms using pyspark and save the table somewhere else. Other problems: If I use os.walk, the cell is stuck in an infinite loop. If I use %%local, I cannot use glob.glob recursive feature as %%local runs python 2.7. That is pretty much what happened. Please revert me if you have any doubt or if something is not clear. I’m open to talk on MS Teams. Best Regards, Raghu Ram Mahankali. E: raghurama@quadrantresource.com <mailto:raghurama@quadrantresource.com> | https://www.quadrantresource.com/ <https://www.quadrantresource.com/> <https://www.quadrantresource.com/> From: Yu Huang <mailto:yuhuang1@microsoftsupport.com> Sent: Tuesday, April 13, 2021 11:24 To: Raghu Ram Mahankali (Quadrant Resource) <mailto:raghurama@quadrantresource.com> Cc: rceop@microsoft.com <mailto:rceop@microsoft.com> Subject: RE: Help needed to execute python commands on jupyt... - TrackingID#2104120060004581 Hi Raghu, Thanks for your quick response. It will be better if you can explain it in this thread. Thanks and Best Regards, Yu Huang | Support Engineer | APAC Big Data Support Team Tel. +86 (21) 52638969 | Email: yuhuang1@microsoft.com <mailto:yuhuang1@microsoft.com> | Working Hours: Mon-Fri 9-18 GMT+8 From: Raghu Ram Mahankali (Quadrant Resource) <raghurama@quadrantresource.com <mailto:raghurama@quadrantresource.com> > Sent: Tuesday, April 13, 2021 1:51 PM To: Yu Huang <yuhuang1@microsoftsupport.com <mailto:yuhuang1@microsoftsupport.com> > Cc: rceop@microsoft.com <mailto:rceop@microsoft.com> Subject: RE: Help needed to execute python commands on jupyt... - TrackingID#2104120060004581 Hi Yu Huang, Thank you for your response. My use case involves a series of steps. I can explain what needs to be done in this thread or we can arrange a call at a time of your convenience. Let me know which option you are okay with. Best Regards, Raghu Ram Mahankali. E: raghurama@quadrantresource.com <mailto:raghurama@quadrantresource.com> | https://www.quadrantresource.com/ <https://www.quadrantresource.com/> <https://www.quadrantresource.com/> From: Yu Huang <mailto:yuhuang1@microsoftsupport.com> Sent: Tuesday, April 13, 2021 11:10 To: Raghu Ram Mahankali (Quadrant Resource) <mailto:raghurama@quadrantresource.com> Cc: rceop@microsoft.com <mailto:rceop@microsoft.com> Subject: Help needed to execute python commands on jupyt... - TrackingID#2104120060004581 Hello Raghu, Thank you for contacting Microsoft Support. My name is Yu Huang. I am the Support Professional who will be working with you on this Service Request. You may reach me using the contact information listed below, referencing the SR number. Issue Definition: Help needed to execute python commands on jupyter notebook. Scope Agreement: Help you to troubleshoot above issue and we can consider the ticket as solution delivered when we achieve either of the following: 1) Permanently solve the issue. 2) Give you a workaround that will help solve your business need. 3) Explain that this situation you are experiencing is by design. 4) Explain that what you are attempting to do cannot be supported by Microsoft. Initial Checking: May I ask if all the python command cannot be successfully executed, or only some specified command? Could you please kindly share with me your notebook url so that we can troubleshoot further? We will now begin working together to resolve your issue. If you do not agree with the scope defined above, or would like to amend it, please let me know as soon as possible. If you have any questions or concerns, please don\\'t hesitate to contact me. Best Regards, Yu Huang Support Engineer Data & AI Big Data Support Team Office:+86 (21) 52638969 Mail:yuhuang1@microsoft.com <mailto:jiwu@microsoft.com> Working Hours: Mon-Fri 9:00-18:00 (GMT+8)'"
      ]
     },
     "metadata": {},
     "execution_count": 14
    }
   ],
   "source": [
    "readmsgFiles(DF[\"fileName\"][0])"
   ]
  },
  {
   "cell_type": "code",
   "execution_count": 15,
   "metadata": {},
   "outputs": [],
   "source": [
    "readmsgFiles_udf = udf(readmsgFiles, StringType())"
   ]
  },
  {
   "cell_type": "code",
   "execution_count": 16,
   "metadata": {},
   "outputs": [],
   "source": [
    "pathsDF = spark.createDataFrame(DF)"
   ]
  },
  {
   "cell_type": "code",
   "execution_count": 17,
   "metadata": {},
   "outputs": [
    {
     "output_type": "stream",
     "name": "stdout",
     "text": [
      "+--------------------+----+\n|            fileName|text|\n+--------------------+----+\n|C:\\Users\\QuadAdmi...| NaN|\n|C:\\Users\\QuadAdmi...| NaN|\n|C:\\Users\\QuadAdmi...| NaN|\n|C:\\Users\\QuadAdmi...| NaN|\n|C:\\Users\\QuadAdmi...| NaN|\n+--------------------+----+\nonly showing top 5 rows\n\n"
     ]
    }
   ],
   "source": [
    "pathsDF.show(5)"
   ]
  },
  {
   "cell_type": "code",
   "execution_count": 18,
   "metadata": {},
   "outputs": [
    {
     "output_type": "stream",
     "name": "stdout",
     "text": [
      "+--------------------+--------------------+\n|            fileName|                text|\n+--------------------+--------------------+\n|C:\\Users\\QuadAdmi...|Hi Raghu, Thanks ...|\n|C:\\Users\\QuadAdmi...|Hi Raghu, Thanks ...|\n|C:\\Users\\QuadAdmi...|Hi Raghu, Thanks ...|\n|C:\\Users\\QuadAdmi...|Hi Raghu, Thanks ...|\n|C:\\Users\\QuadAdmi...|Hi Raghu, Thanks ...|\n+--------------------+--------------------+\nonly showing top 5 rows\n\nWall time: 3.15 s\n"
     ]
    }
   ],
   "source": [
    "%%time\n",
    "pathsDF.select(\"fileName\", readmsgFiles_udf(\"fileName\").alias(\"text\")).show(5)"
   ]
  },
  {
   "cell_type": "code",
   "execution_count": 23,
   "metadata": {},
   "outputs": [
    {
     "output_type": "stream",
     "name": "stdout",
     "text": [
      "Wall time: 11min 23s\n"
     ]
    }
   ],
   "source": [
    "%%time\n",
    "pathsDF.select(\"fileName\", readmsgFiles_udf(\"fileName\").alias(\"text\")).write.mode(\"append\").saveAsTable(\"filesMsg_93gig\",path=\"D:\\\\tables\")"
   ]
  },
  {
   "cell_type": "code",
   "execution_count": null,
   "metadata": {},
   "outputs": [],
   "source": []
  }
 ]
}