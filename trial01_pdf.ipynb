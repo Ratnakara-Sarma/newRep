{
 "cells": [
  {
   "cell_type": "code",
   "execution_count": 1,
   "metadata": {},
   "outputs": [],
   "source": [
    "import glob\n",
    "import pandas as pd\n",
    "import time\n",
    "import docx\n",
    "import PyPDF2\n",
    "import cv2\n",
    "import pytesseract\n",
    "from datetime import date\n",
    "import re\n",
    "# pytesseract.pytesseract.tesseract_cmd = r\"C:\\Program Files\\Tesseract-OCR\\tesseract.exe\"\n",
    "pytesseract.pytesseract.tesseract_cmd = r\"C:\\\\Program Files\\\\Tesseract-OCR\\\\tesseract.exe\""
   ]
  },
  {
   "cell_type": "code",
   "execution_count": 2,
   "metadata": {},
   "outputs": [
    {
     "output_type": "stream",
     "name": "stdout",
     "text": [
      "time took: 0.00 seconds\n"
     ]
    }
   ],
   "source": [
    "DF = pd.DataFrame(columns=[\"fileName\", \"text\"])\n",
    "st_time = time.time()\n",
    "paths = glob.glob(r\"C:\\Users\\QuadAdmin\\Downloads\\files\\**\\*.pdf\",recursive = True)\n",
    "print(f\"time took: {(time.time() - st_time):.2f} seconds\")"
   ]
  },
  {
   "cell_type": "code",
   "execution_count": 3,
   "metadata": {},
   "outputs": [
    {
     "output_type": "execute_result",
     "data": {
      "text/plain": [
       "['C:\\\\Users\\\\QuadAdmin\\\\Downloads\\\\files\\\\pdf\\\\call1.pdf',\n",
       " 'C:\\\\Users\\\\QuadAdmin\\\\Downloads\\\\files\\\\pdf\\\\call3.pdf',\n",
       " 'C:\\\\Users\\\\QuadAdmin\\\\Downloads\\\\files\\\\pdf\\\\f013.pdf',\n",
       " 'C:\\\\Users\\\\QuadAdmin\\\\Downloads\\\\files\\\\pdf\\\\try2.pdf']"
      ]
     },
     "metadata": {},
     "execution_count": 3
    }
   ],
   "source": [
    "paths"
   ]
  },
  {
   "cell_type": "code",
   "execution_count": 4,
   "metadata": {},
   "outputs": [],
   "source": [
    "DF[\"fileName\"] = paths"
   ]
  },
  {
   "cell_type": "code",
   "execution_count": 5,
   "metadata": {},
   "outputs": [
    {
     "output_type": "execute_result",
     "data": {
      "text/plain": [
       "                                           fileName text\n",
       "0  C:\\Users\\QuadAdmin\\Downloads\\files\\pdf\\call1.pdf  NaN\n",
       "1  C:\\Users\\QuadAdmin\\Downloads\\files\\pdf\\call3.pdf  NaN\n",
       "2   C:\\Users\\QuadAdmin\\Downloads\\files\\pdf\\f013.pdf  NaN\n",
       "3   C:\\Users\\QuadAdmin\\Downloads\\files\\pdf\\try2.pdf  NaN"
      ],
      "text/html": "<div>\n<style scoped>\n    .dataframe tbody tr th:only-of-type {\n        vertical-align: middle;\n    }\n\n    .dataframe tbody tr th {\n        vertical-align: top;\n    }\n\n    .dataframe thead th {\n        text-align: right;\n    }\n</style>\n<table border=\"1\" class=\"dataframe\">\n  <thead>\n    <tr style=\"text-align: right;\">\n      <th></th>\n      <th>fileName</th>\n      <th>text</th>\n    </tr>\n  </thead>\n  <tbody>\n    <tr>\n      <th>0</th>\n      <td>C:\\Users\\QuadAdmin\\Downloads\\files\\pdf\\call1.pdf</td>\n      <td>NaN</td>\n    </tr>\n    <tr>\n      <th>1</th>\n      <td>C:\\Users\\QuadAdmin\\Downloads\\files\\pdf\\call3.pdf</td>\n      <td>NaN</td>\n    </tr>\n    <tr>\n      <th>2</th>\n      <td>C:\\Users\\QuadAdmin\\Downloads\\files\\pdf\\f013.pdf</td>\n      <td>NaN</td>\n    </tr>\n    <tr>\n      <th>3</th>\n      <td>C:\\Users\\QuadAdmin\\Downloads\\files\\pdf\\try2.pdf</td>\n      <td>NaN</td>\n    </tr>\n  </tbody>\n</table>\n</div>"
     },
     "metadata": {},
     "execution_count": 5
    }
   ],
   "source": [
    "DF"
   ]
  },
  {
   "cell_type": "code",
   "execution_count": 6,
   "metadata": {},
   "outputs": [],
   "source": [
    "import findspark\n",
    "findspark.init()"
   ]
  },
  {
   "cell_type": "code",
   "execution_count": 7,
   "metadata": {},
   "outputs": [],
   "source": [
    "from pyspark import SparkContext, SparkConf, SQLContext\n",
    "from pyspark.sql import SparkSession\n",
    "from pyspark.sql import SQLContext"
   ]
  },
  {
   "cell_type": "code",
   "execution_count": 8,
   "metadata": {},
   "outputs": [],
   "source": [
    "conf = SparkConf()\n",
    "conf.set(\"spark.network.timeout\", \"1000000\")\n",
    "conf.set(\"spark.executor.heartbeatInterval\", \"1000000\")\n",
    "conf.set(\"spark.speculation\",\"false\")\n",
    "conf.set(\"spark.app.name\",\"blaher\")\n",
    "spark = SparkSession.builder.config(conf = conf).master(\"local[1]\").enableHiveSupport().getOrCreate() #(\"local[*]\") uses all the cpu cores#"
   ]
  },
  {
   "cell_type": "code",
   "execution_count": 9,
   "metadata": {},
   "outputs": [
    {
     "output_type": "execute_result",
     "data": {
      "text/plain": [
       "<pyspark.sql.session.SparkSession at 0x259f8ed4430>"
      ],
      "text/html": "\n            <div>\n                <p><b>SparkSession - hive</b></p>\n                \n        <div>\n            <p><b>SparkContext</b></p>\n\n            <p><a href=\"http://windowsVM.zya15zcfgm1ehm5f0udlnoxavc.bx.internal.cloudapp.net:4040\">Spark UI</a></p>\n\n            <dl>\n              <dt>Version</dt>\n                <dd><code>v3.1.1</code></dd>\n              <dt>Master</dt>\n                <dd><code>local[1]</code></dd>\n              <dt>AppName</dt>\n                <dd><code>blaher</code></dd>\n            </dl>\n        </div>\n        \n            </div>\n        "
     },
     "metadata": {},
     "execution_count": 9
    }
   ],
   "source": [
    "spark"
   ]
  },
  {
   "cell_type": "code",
   "execution_count": 10,
   "metadata": {},
   "outputs": [],
   "source": [
    "sc = spark.sparkContext"
   ]
  },
  {
   "cell_type": "code",
   "execution_count": 11,
   "metadata": {},
   "outputs": [],
   "source": [
    "# ls_ran = list(range(1,41))\n",
    "# len(ls_ran)"
   ]
  },
  {
   "cell_type": "code",
   "execution_count": 12,
   "metadata": {},
   "outputs": [],
   "source": [
    "# ls_rdd = sc.parallelize(ls_ran)\n",
    "# ls_rdd.take(5)"
   ]
  },
  {
   "cell_type": "code",
   "execution_count": 13,
   "metadata": {},
   "outputs": [],
   "source": [
    "# type(ls_rdd)"
   ]
  },
  {
   "cell_type": "code",
   "execution_count": 14,
   "metadata": {},
   "outputs": [],
   "source": [
    "# ls_rdd.getNumPartitions()"
   ]
  },
  {
   "cell_type": "code",
   "execution_count": 15,
   "metadata": {},
   "outputs": [],
   "source": [
    "def getText_PDF(filename_with_path):\n",
    "    pdfFileObj = open(filename_with_path, 'rb')\n",
    "    pdfReader = PyPDF2.PdfFileReader(pdfFileObj)\n",
    "    pageObj = pdfReader.getPage(0)\n",
    "    text = (pageObj.extractText()).replace(\"\\n\",\"\")\n",
    "    return text"
   ]
  },
  {
   "cell_type": "code",
   "execution_count": 16,
   "metadata": {},
   "outputs": [
    {
     "output_type": "execute_result",
     "data": {
      "text/plain": [
       "'C:\\\\Users\\\\QuadAdmin\\\\Downloads\\\\files\\\\pdf\\\\call1.pdf'"
      ]
     },
     "metadata": {},
     "execution_count": 16
    }
   ],
   "source": [
    "DF[\"fileName\"][0]"
   ]
  },
  {
   "cell_type": "code",
   "execution_count": 17,
   "metadata": {},
   "outputs": [
    {
     "output_type": "execute_result",
     "data": {
      "text/plain": [
       "\"Hello, my name is David Johnson and I live in Maine.  My credit card number is 4095-2609-9393-4932 and my Crypto wallet id is 16Yeky6GMjeNkAiNcBY7ZhrLoMSgg1BoyZ.    On September 18 I visited microsoft.com and sent an email to test@microsoft.com,  from the IP 192.168.0.1.   My passport: 191280345 and my phone number: (212) 555-1234.   This is a valid IBAN: IL150120690000003111111 . Can you please check the status on bank account 154567876544 in PresidiBank?   Kate's social security number is 078-05-1120.  Her driver license? it is 1234567A. Code of Conduct.   For information see the Code of Conduct FAQ or contact opencode@microsoft.com with any additional questions or comments. Agent: It's a good day at Bank of Wealth, my name is Heather, how can I help you? Customer: I would like to know my remaining money in my account.  Agent: I'd be glad to help you May I please get your Bank Account number and the Name on the Account?  Customer: Sure, its Tracy Q. Randall, account number 805-7845-3895-061 Agent: Thank you, let me just check on it. Ok, can you please, verify the last four numbers of your social security ID?  Customer: It is ****.  Agent: You still have 84 thousand and 65 cents. Is there anything else? \""
      ]
     },
     "metadata": {},
     "execution_count": 17
    }
   ],
   "source": [
    "# readfiles(DF[\"fileName\"][0])\n",
    "# re.sub(\"\\n\",\" \",getText_Docx(DF[\"fileName\"][3]))\n",
    "getText_PDF(DF[\"fileName\"][3])"
   ]
  },
  {
   "cell_type": "code",
   "execution_count": 18,
   "metadata": {},
   "outputs": [],
   "source": [
    "paths_rdd = sc.parallelize(paths)"
   ]
  },
  {
   "cell_type": "code",
   "execution_count": 19,
   "metadata": {},
   "outputs": [],
   "source": [
    "# text_rdd = paths_rdd.map(readfiles)"
   ]
  },
  {
   "cell_type": "code",
   "execution_count": 20,
   "metadata": {},
   "outputs": [
    {
     "output_type": "stream",
     "name": "stdout",
     "text": [
      "time took: 0.13 seconds\n"
     ]
    }
   ],
   "source": [
    "start_time = time.time()\n",
    "DF[\"text\"] = DF[\"fileName\"].apply(lambda path: getText_PDF(path))\n",
    "print(f\"time took: {(time.time() - start_time):.2f} seconds\")"
   ]
  },
  {
   "cell_type": "code",
   "execution_count": 21,
   "metadata": {},
   "outputs": [
    {
     "output_type": "execute_result",
     "data": {
      "text/plain": [
       "                                           fileName  \\\n",
       "0  C:\\Users\\QuadAdmin\\Downloads\\files\\pdf\\call1.pdf   \n",
       "1  C:\\Users\\QuadAdmin\\Downloads\\files\\pdf\\call3.pdf   \n",
       "2   C:\\Users\\QuadAdmin\\Downloads\\files\\pdf\\f013.pdf   \n",
       "3   C:\\Users\\QuadAdmin\\Downloads\\files\\pdf\\try2.pdf   \n",
       "\n",
       "                                                text  \n",
       "0  Agent: It's a good day today at Bank of Wealth...  \n",
       "1  Agent: This is Mike of Pizza Loco, what & your...  \n",
       "2  My name is Joseph Morgan ssn is 123 48 6789 an...  \n",
       "3  Hello, my name is David Johnson and I live in ...  "
      ],
      "text/html": "<div>\n<style scoped>\n    .dataframe tbody tr th:only-of-type {\n        vertical-align: middle;\n    }\n\n    .dataframe tbody tr th {\n        vertical-align: top;\n    }\n\n    .dataframe thead th {\n        text-align: right;\n    }\n</style>\n<table border=\"1\" class=\"dataframe\">\n  <thead>\n    <tr style=\"text-align: right;\">\n      <th></th>\n      <th>fileName</th>\n      <th>text</th>\n    </tr>\n  </thead>\n  <tbody>\n    <tr>\n      <th>0</th>\n      <td>C:\\Users\\QuadAdmin\\Downloads\\files\\pdf\\call1.pdf</td>\n      <td>Agent: It's a good day today at Bank of Wealth...</td>\n    </tr>\n    <tr>\n      <th>1</th>\n      <td>C:\\Users\\QuadAdmin\\Downloads\\files\\pdf\\call3.pdf</td>\n      <td>Agent: This is Mike of Pizza Loco, what &amp; your...</td>\n    </tr>\n    <tr>\n      <th>2</th>\n      <td>C:\\Users\\QuadAdmin\\Downloads\\files\\pdf\\f013.pdf</td>\n      <td>My name is Joseph Morgan ssn is 123 48 6789 an...</td>\n    </tr>\n    <tr>\n      <th>3</th>\n      <td>C:\\Users\\QuadAdmin\\Downloads\\files\\pdf\\try2.pdf</td>\n      <td>Hello, my name is David Johnson and I live in ...</td>\n    </tr>\n  </tbody>\n</table>\n</div>"
     },
     "metadata": {},
     "execution_count": 21
    }
   ],
   "source": [
    "DF"
   ]
  },
  {
   "cell_type": "code",
   "execution_count": 22,
   "metadata": {},
   "outputs": [],
   "source": [
    "DF[\"text\"] = DF[\"text\"].apply(lambda text: re.sub(\"\\n\",\" \",text))"
   ]
  },
  {
   "cell_type": "code",
   "execution_count": 23,
   "metadata": {},
   "outputs": [
    {
     "output_type": "execute_result",
     "data": {
      "text/plain": [
       "                                           fileName  \\\n",
       "0  C:\\Users\\QuadAdmin\\Downloads\\files\\pdf\\call1.pdf   \n",
       "1  C:\\Users\\QuadAdmin\\Downloads\\files\\pdf\\call3.pdf   \n",
       "2   C:\\Users\\QuadAdmin\\Downloads\\files\\pdf\\f013.pdf   \n",
       "3   C:\\Users\\QuadAdmin\\Downloads\\files\\pdf\\try2.pdf   \n",
       "\n",
       "                                                text  \n",
       "0  Agent: It's a good day today at Bank of Wealth...  \n",
       "1  Agent: This is Mike of Pizza Loco, what & your...  \n",
       "2  My name is Joseph Morgan ssn is 123 48 6789 an...  \n",
       "3  Hello, my name is David Johnson and I live in ...  "
      ],
      "text/html": "<div>\n<style scoped>\n    .dataframe tbody tr th:only-of-type {\n        vertical-align: middle;\n    }\n\n    .dataframe tbody tr th {\n        vertical-align: top;\n    }\n\n    .dataframe thead th {\n        text-align: right;\n    }\n</style>\n<table border=\"1\" class=\"dataframe\">\n  <thead>\n    <tr style=\"text-align: right;\">\n      <th></th>\n      <th>fileName</th>\n      <th>text</th>\n    </tr>\n  </thead>\n  <tbody>\n    <tr>\n      <th>0</th>\n      <td>C:\\Users\\QuadAdmin\\Downloads\\files\\pdf\\call1.pdf</td>\n      <td>Agent: It's a good day today at Bank of Wealth...</td>\n    </tr>\n    <tr>\n      <th>1</th>\n      <td>C:\\Users\\QuadAdmin\\Downloads\\files\\pdf\\call3.pdf</td>\n      <td>Agent: This is Mike of Pizza Loco, what &amp; your...</td>\n    </tr>\n    <tr>\n      <th>2</th>\n      <td>C:\\Users\\QuadAdmin\\Downloads\\files\\pdf\\f013.pdf</td>\n      <td>My name is Joseph Morgan ssn is 123 48 6789 an...</td>\n    </tr>\n    <tr>\n      <th>3</th>\n      <td>C:\\Users\\QuadAdmin\\Downloads\\files\\pdf\\try2.pdf</td>\n      <td>Hello, my name is David Johnson and I live in ...</td>\n    </tr>\n  </tbody>\n</table>\n</div>"
     },
     "metadata": {},
     "execution_count": 23
    }
   ],
   "source": [
    "DF"
   ]
  },
  {
   "cell_type": "code",
   "execution_count": 24,
   "metadata": {},
   "outputs": [],
   "source": [
    "from pyspark.sql.types import *"
   ]
  },
  {
   "cell_type": "code",
   "execution_count": 25,
   "metadata": {},
   "outputs": [],
   "source": [
    "from pyspark.sql import *"
   ]
  },
  {
   "cell_type": "code",
   "execution_count": 26,
   "metadata": {},
   "outputs": [],
   "source": [
    "import pyspark.sql.functions as F"
   ]
  },
  {
   "cell_type": "code",
   "execution_count": 27,
   "metadata": {},
   "outputs": [],
   "source": [
    "from parse_pii.piiparser import *"
   ]
  },
  {
   "cell_type": "code",
   "execution_count": 28,
   "metadata": {},
   "outputs": [
    {
     "output_type": "execute_result",
     "data": {
      "text/plain": [
       "\"Agent: It's a good day today at Bank of Wealth, my name is Heather, how can I help you? Customer: I would like to know my remaining money in my account.  Agent: I'd be glad to help you May I please get your Bank Account number and the Name on the Account?  Customer: Sure, its Tracy Q. Randall, account number 805-7845-3895-061 Agent: Thank you, let me just check on it. Ok, can you please, verify the last four numbers of your social security ID?  Customer: It is ****.  Agent: You still have 84 thousand and 65 cents. Is there anything else that I could assist you with?  Customer: Yes, If I transfer it to my bank account in Lloyds of London, how long will it take?  Agent: If we do the transaction over the phone or online, our team will still contact you for verification prior sending your money to a different bank. The whole process usually just takes 2-3days.  Customer: Oh, I see, never mind, I'll just do it after the holidays. Thanks for your help. Heather!  Agent: You are very welcome, Ms. Randall! You have a great day and Thank you for calling Bank of Wealth. Good Bye! \""
      ]
     },
     "metadata": {},
     "execution_count": 28
    }
   ],
   "source": [
    "DF[\"text\"][0]"
   ]
  },
  {
   "cell_type": "code",
   "execution_count": 29,
   "metadata": {},
   "outputs": [
    {
     "output_type": "execute_result",
     "data": {
      "text/plain": [
       "'yes'"
      ]
     },
     "metadata": {},
     "execution_count": 29
    }
   ],
   "source": [
    "classify(DF[\"text\"][0])"
   ]
  },
  {
   "cell_type": "code",
   "execution_count": 30,
   "metadata": {},
   "outputs": [],
   "source": [
    "sparkDF = spark.createDataFrame(DF)"
   ]
  },
  {
   "cell_type": "code",
   "execution_count": 31,
   "metadata": {},
   "outputs": [
    {
     "output_type": "stream",
     "name": "stdout",
     "text": [
      "+--------------------+--------------------+\n|            fileName|                text|\n+--------------------+--------------------+\n|C:\\Users\\QuadAdmi...|Agent: It's a goo...|\n|C:\\Users\\QuadAdmi...|Agent: This is Mi...|\n|C:\\Users\\QuadAdmi...|My name is Joseph...|\n|C:\\Users\\QuadAdmi...|Hello, my name is...|\n+--------------------+--------------------+\n\n"
     ]
    }
   ],
   "source": [
    "sparkDF.show(5)"
   ]
  },
  {
   "cell_type": "code",
   "execution_count": 32,
   "metadata": {},
   "outputs": [
    {
     "output_type": "execute_result",
     "data": {
      "text/plain": [
       "1"
      ]
     },
     "metadata": {},
     "execution_count": 32
    }
   ],
   "source": [
    "sparkDF.rdd.getNumPartitions()"
   ]
  },
  {
   "cell_type": "code",
   "execution_count": 33,
   "metadata": {},
   "outputs": [],
   "source": [
    "classify_udf = F.udf(classify, StringType())"
   ]
  },
  {
   "cell_type": "code",
   "execution_count": 34,
   "metadata": {},
   "outputs": [],
   "source": [
    "# start_time = time.time()\n",
    "# sparkDF.select(\"fileName\", classify_udf(\"text\").alias(\"has_pii\")).show(5)\n",
    "# print(f\"time took: {(time.time() - start_time):.2f} seconds\")"
   ]
  },
  {
   "cell_type": "code",
   "execution_count": 35,
   "metadata": {},
   "outputs": [],
   "source": [
    "# fDF = sparkDF.select(\"fileName\", classify_udf(\"text\").alias(\"has_pii\"))"
   ]
  },
  {
   "cell_type": "code",
   "execution_count": 36,
   "metadata": {},
   "outputs": [],
   "source": [
    "# start_time = time.time()\n",
    "# fDF.coalesce(2).write.mode(\"overwrite\").format(\"csv\").option(\"header\",\"true\").save(\"output\")\n",
    "# print(f\"time took: {(time.time() - start_time):.2f} seconds\")"
   ]
  },
  {
   "cell_type": "code",
   "execution_count": 37,
   "metadata": {},
   "outputs": [],
   "source": [
    "# fDF.printSchema()"
   ]
  },
  {
   "cell_type": "code",
   "execution_count": 38,
   "metadata": {},
   "outputs": [],
   "source": [
    "import spacy\n",
    "from presidio_analyzer import AnalyzerEngine\n",
    "from presidio_analyzer.nlp_engine import SpacyNlpEngine\n",
    "from presidio_analyzer.recognizer_registry import RecognizerRegistry"
   ]
  },
  {
   "cell_type": "code",
   "execution_count": 39,
   "metadata": {},
   "outputs": [],
   "source": [
    "def entity_counter(entity_list):\n",
    "    freq = {}\n",
    "    entity_list = sorted(entity_list)\n",
    "    for items in entity_list: \n",
    "        freq[items] = entity_list.count(items) \n",
    " \n",
    "    counter = \"\"\n",
    "    for key, value in freq.items(): \n",
    "        if key == entity_list[-1]:\n",
    "            counter += f\"{key}:{value}\"\n",
    "        else:\n",
    "            counter += f\"{key}:{value}\"+\", \"\n",
    "    return counter"
   ]
  },
  {
   "cell_type": "code",
   "execution_count": 40,
   "metadata": {},
   "outputs": [],
   "source": [
    "analyzer = AnalyzerEngine(nlp_engine=nlp)"
   ]
  },
  {
   "cell_type": "code",
   "execution_count": 41,
   "metadata": {},
   "outputs": [],
   "source": [
    "def pii_classify(stext):\n",
    "    text = stext\n",
    "    response = analyzer.analyze(correlation_id=0, text = text,language=\"en\",entities=[], score_threshold=0.5)\n",
    "    if len(response) == 0:\n",
    "        return \"no\"\n",
    "    else:\n",
    "        return \"yes\""
   ]
  },
  {
   "cell_type": "code",
   "execution_count": 42,
   "metadata": {},
   "outputs": [
    {
     "output_type": "execute_result",
     "data": {
      "text/plain": [
       "\"Agent: This is Mike of Pizza Loco, what & your name and what would you like to order?! Customer: This is John Perez; I want One Family size of Pepperoni and 2 Regular Supreme. Agent: Thank you, so, that is One Pepperoni Family size, and Two Regular Supreme Pizza's. Is that right? Customer: Yep, deliver it at 745 Farmers Road, Modesto, California... Agent: Got it, would you like to a each. Customer: Sure, I'll just pay it in cash once it's delivered. Agent: Alight, it's gonna be right in front of your door, within 30mins. Thanks for calling, Pizza Loco! Have a great night! \""
      ]
     },
     "metadata": {},
     "execution_count": 42
    }
   ],
   "source": [
    "(DF[\"text\"][1])"
   ]
  },
  {
   "cell_type": "code",
   "execution_count": 43,
   "metadata": {},
   "outputs": [
    {
     "output_type": "execute_result",
     "data": {
      "text/plain": [
       "'yes'"
      ]
     },
     "metadata": {},
     "execution_count": 43
    }
   ],
   "source": [
    "pii_classify(DF[\"text\"][1])"
   ]
  },
  {
   "cell_type": "code",
   "execution_count": 44,
   "metadata": {},
   "outputs": [],
   "source": [
    "pii_apply_udf = F.udf(pii_classify, StringType())"
   ]
  },
  {
   "cell_type": "code",
   "execution_count": 45,
   "metadata": {},
   "outputs": [
    {
     "output_type": "stream",
     "name": "stdout",
     "text": [
      "+--------------------+-------+\n|            fileName|has_pii|\n+--------------------+-------+\n|C:\\Users\\QuadAdmi...|    yes|\n|C:\\Users\\QuadAdmi...|    yes|\n|C:\\Users\\QuadAdmi...|    yes|\n|C:\\Users\\QuadAdmi...|    yes|\n+--------------------+-------+\n\n"
     ]
    }
   ],
   "source": [
    "sparkDF.select(\"fileName\", classify_udf(\"text\").alias(\"has_pii\")).show(4)"
   ]
  },
  {
   "cell_type": "code",
   "execution_count": 46,
   "metadata": {},
   "outputs": [],
   "source": [
    "fDF = sparkDF.select(\"fileName\", classify_udf(\"text\").alias(\"has_pii\"))"
   ]
  },
  {
   "cell_type": "code",
   "execution_count": 47,
   "metadata": {},
   "outputs": [],
   "source": [
    "fDF.write.mode(\"overwrite\").saveAsTable(\"op_table4\")"
   ]
  },
  {
   "cell_type": "code",
   "execution_count": 48,
   "metadata": {},
   "outputs": [],
   "source": [
    "# fDF.repartition(1).write.mode(\"overwrite\").csv(\"output\",header=True)"
   ]
  },
  {
   "cell_type": "code",
   "execution_count": 49,
   "metadata": {},
   "outputs": [],
   "source": [
    "# start_time = time.time()\n",
    "# sparkDF.coalesce(2).write.mode(\"overwrite\").format(\"csv\").option(\"header\",\"true\").save(\"output\")\n",
    "# print(f\"time took: {(time.time() - start_time):.2f} seconds\")"
   ]
  }
 ],
 "metadata": {
  "kernelspec": {
   "name": "python385jvsc74a57bd0b3ba2566441a7c06988d0923437866b63cedc61552a5af99d1f4fb67d367b25f",
   "display_name": "Python 3.8.5 64-bit (conda)"
  },
  "language_info": {
   "codemirror_mode": {
    "name": "ipython",
    "version": 3
   },
   "file_extension": ".py",
   "mimetype": "text/x-python",
   "name": "python",
   "nbconvert_exporter": "python",
   "pygments_lexer": "ipython3",
   "version": "3.8.5-final"
  },
  "metadata": {
   "interpreter": {
    "hash": "b95e49215035bc839979a8efe4a80bba9c650ae7605c0fcd6fe55266ab57010d"
   }
  }
 },
 "nbformat": 4,
 "nbformat_minor": 2
}