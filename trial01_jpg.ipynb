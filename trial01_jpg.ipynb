{
 "cells": [
  {
   "cell_type": "code",
   "execution_count": 1,
   "metadata": {},
   "outputs": [],
   "source": [
    "import glob\n",
    "import pandas as pd\n",
    "import time\n",
    "import docx\n",
    "import PyPDF2\n",
    "import cv2\n",
    "import pytesseract\n",
    "from datetime import date\n",
    "import re\n",
    "# pytesseract.pytesseract.tesseract_cmd = r\"C:\\Program Files\\Tesseract-OCR\\tesseract.exe\"\n",
    "pytesseract.pytesseract.tesseract_cmd = r\"C:\\\\Program Files\\\\Tesseract-OCR\\\\tesseract.exe\""
   ]
  },
  {
   "cell_type": "code",
   "execution_count": 2,
   "metadata": {},
   "outputs": [
    {
     "output_type": "stream",
     "name": "stdout",
     "text": [
      "time took: 0.00 seconds\n"
     ]
    }
   ],
   "source": [
    "DF = pd.DataFrame(columns=[\"fileName\", \"text\"])\n",
    "st_time = time.time()\n",
    "paths = glob.glob(r\"C:\\Users\\QuadAdmin\\Downloads\\files\\**\\*.jpg\",recursive = True)\n",
    "print(f\"time took: {(time.time() - st_time):.2f} seconds\")"
   ]
  },
  {
   "cell_type": "code",
   "execution_count": 3,
   "metadata": {},
   "outputs": [
    {
     "output_type": "execute_result",
     "data": {
      "text/plain": [
       "['C:\\\\Users\\\\QuadAdmin\\\\Downloads\\\\files\\\\images\\\\call11.jpg',\n",
       " 'C:\\\\Users\\\\QuadAdmin\\\\Downloads\\\\files\\\\images\\\\call7.jpg',\n",
       " 'C:\\\\Users\\\\QuadAdmin\\\\Downloads\\\\files\\\\images\\\\f018.jpg',\n",
       " 'C:\\\\Users\\\\QuadAdmin\\\\Downloads\\\\files\\\\images\\\\f019.jpg']"
      ]
     },
     "metadata": {},
     "execution_count": 3
    }
   ],
   "source": [
    "paths"
   ]
  },
  {
   "cell_type": "code",
   "execution_count": 4,
   "metadata": {},
   "outputs": [],
   "source": [
    "DF[\"fileName\"] = paths"
   ]
  },
  {
   "cell_type": "code",
   "execution_count": 5,
   "metadata": {},
   "outputs": [
    {
     "output_type": "execute_result",
     "data": {
      "text/plain": [
       "                                            fileName text\n",
       "0  C:\\Users\\QuadAdmin\\Downloads\\files\\images\\call...  NaN\n",
       "1  C:\\Users\\QuadAdmin\\Downloads\\files\\images\\call...  NaN\n",
       "2  C:\\Users\\QuadAdmin\\Downloads\\files\\images\\f018...  NaN\n",
       "3  C:\\Users\\QuadAdmin\\Downloads\\files\\images\\f019...  NaN"
      ],
      "text/html": "<div>\n<style scoped>\n    .dataframe tbody tr th:only-of-type {\n        vertical-align: middle;\n    }\n\n    .dataframe tbody tr th {\n        vertical-align: top;\n    }\n\n    .dataframe thead th {\n        text-align: right;\n    }\n</style>\n<table border=\"1\" class=\"dataframe\">\n  <thead>\n    <tr style=\"text-align: right;\">\n      <th></th>\n      <th>fileName</th>\n      <th>text</th>\n    </tr>\n  </thead>\n  <tbody>\n    <tr>\n      <th>0</th>\n      <td>C:\\Users\\QuadAdmin\\Downloads\\files\\images\\call...</td>\n      <td>NaN</td>\n    </tr>\n    <tr>\n      <th>1</th>\n      <td>C:\\Users\\QuadAdmin\\Downloads\\files\\images\\call...</td>\n      <td>NaN</td>\n    </tr>\n    <tr>\n      <th>2</th>\n      <td>C:\\Users\\QuadAdmin\\Downloads\\files\\images\\f018...</td>\n      <td>NaN</td>\n    </tr>\n    <tr>\n      <th>3</th>\n      <td>C:\\Users\\QuadAdmin\\Downloads\\files\\images\\f019...</td>\n      <td>NaN</td>\n    </tr>\n  </tbody>\n</table>\n</div>"
     },
     "metadata": {},
     "execution_count": 5
    }
   ],
   "source": [
    "DF"
   ]
  },
  {
   "cell_type": "code",
   "execution_count": 6,
   "metadata": {},
   "outputs": [],
   "source": [
    "import findspark\n",
    "findspark.init()"
   ]
  },
  {
   "cell_type": "code",
   "execution_count": 7,
   "metadata": {},
   "outputs": [],
   "source": [
    "from pyspark import SparkContext, SparkConf, SQLContext\n",
    "from pyspark.sql import SparkSession\n",
    "from pyspark.sql import SQLContext"
   ]
  },
  {
   "cell_type": "code",
   "execution_count": 8,
   "metadata": {},
   "outputs": [],
   "source": [
    "conf = SparkConf()\n",
    "conf.set(\"spark.network.timeout\", \"1000000\")\n",
    "conf.set(\"spark.executor.heartbeatInterval\", \"1000000\")\n",
    "conf.set(\"spark.speculation\",\"false\")\n",
    "conf.set(\"spark.app.name\",\"blaher\")\n",
    "spark = SparkSession.builder.config(conf = conf).master(\"local[1]\").enableHiveSupport().getOrCreate() #(\"local[*]\") uses all the cpu cores#"
   ]
  },
  {
   "cell_type": "code",
   "execution_count": 9,
   "metadata": {},
   "outputs": [
    {
     "output_type": "execute_result",
     "data": {
      "text/plain": [
       "<pyspark.sql.session.SparkSession at 0x2194cf5bd30>"
      ],
      "text/html": "\n            <div>\n                <p><b>SparkSession - hive</b></p>\n                \n        <div>\n            <p><b>SparkContext</b></p>\n\n            <p><a href=\"http://windowsVM.zya15zcfgm1ehm5f0udlnoxavc.bx.internal.cloudapp.net:4040\">Spark UI</a></p>\n\n            <dl>\n              <dt>Version</dt>\n                <dd><code>v3.1.1</code></dd>\n              <dt>Master</dt>\n                <dd><code>local[1]</code></dd>\n              <dt>AppName</dt>\n                <dd><code>blaher</code></dd>\n            </dl>\n        </div>\n        \n            </div>\n        "
     },
     "metadata": {},
     "execution_count": 9
    }
   ],
   "source": [
    "spark"
   ]
  },
  {
   "cell_type": "code",
   "execution_count": 10,
   "metadata": {},
   "outputs": [],
   "source": [
    "sc = spark.sparkContext"
   ]
  },
  {
   "cell_type": "code",
   "execution_count": 11,
   "metadata": {},
   "outputs": [],
   "source": [
    "# ls_ran = list(range(1,41))\n",
    "# len(ls_ran)"
   ]
  },
  {
   "cell_type": "code",
   "execution_count": 12,
   "metadata": {},
   "outputs": [],
   "source": [
    "# ls_rdd = sc.parallelize(ls_ran)\n",
    "# ls_rdd.take(5)"
   ]
  },
  {
   "cell_type": "code",
   "execution_count": 13,
   "metadata": {},
   "outputs": [],
   "source": [
    "# type(ls_rdd)"
   ]
  },
  {
   "cell_type": "code",
   "execution_count": 14,
   "metadata": {},
   "outputs": [],
   "source": [
    "# ls_rdd.getNumPartitions()"
   ]
  },
  {
   "cell_type": "code",
   "execution_count": 15,
   "metadata": {},
   "outputs": [],
   "source": [
    "def getText_jpg(filename):\n",
    "    img = cv2.imread(filename)\n",
    "    text = pytesseract.image_to_string(img)\n",
    "    # '\\n'.join(fullText)\n",
    "    return text"
   ]
  },
  {
   "cell_type": "code",
   "execution_count": 16,
   "metadata": {},
   "outputs": [
    {
     "output_type": "execute_result",
     "data": {
      "text/plain": [
       "'C:\\\\Users\\\\QuadAdmin\\\\Downloads\\\\files\\\\images\\\\call11.jpg'"
      ]
     },
     "metadata": {},
     "execution_count": 16
    }
   ],
   "source": [
    "DF[\"fileName\"][0]"
   ]
  },
  {
   "cell_type": "code",
   "execution_count": 53,
   "metadata": {},
   "outputs": [
    {
     "output_type": "stream",
     "name": "stdout",
     "text": [
      "time took: 0.82 seconds\n"
     ]
    }
   ],
   "source": [
    "# readfiles(DF[\"fileName\"][0])\n",
    "start_time = time.time()\n",
    "re.sub(\"\\n\",\" \",getText_jpg(DF[\"fileName\"][3]))\n",
    "print(f\"time took: {(time.time() - start_time):.2f} seconds\")\n",
    "# getText_jpg(DF[\"fileName\"][3])"
   ]
  },
  {
   "cell_type": "code",
   "execution_count": 18,
   "metadata": {},
   "outputs": [],
   "source": [
    "paths_rdd = sc.parallelize(paths)"
   ]
  },
  {
   "cell_type": "code",
   "execution_count": 19,
   "metadata": {},
   "outputs": [],
   "source": [
    "# text_rdd = paths_rdd.map(readfiles)"
   ]
  },
  {
   "cell_type": "code",
   "execution_count": 20,
   "metadata": {},
   "outputs": [
    {
     "output_type": "stream",
     "name": "stdout",
     "text": [
      "time took: 3.02 seconds\n"
     ]
    }
   ],
   "source": [
    "start_time = time.time()\n",
    "DF[\"text\"] = DF[\"fileName\"].apply(lambda path: getText_jpg(path))\n",
    "print(f\"time took: {(time.time() - start_time):.2f} seconds\")"
   ]
  },
  {
   "cell_type": "code",
   "execution_count": 21,
   "metadata": {},
   "outputs": [
    {
     "output_type": "execute_result",
     "data": {
      "text/plain": [
       "                                            fileName  \\\n",
       "0  C:\\Users\\QuadAdmin\\Downloads\\files\\images\\call...   \n",
       "1  C:\\Users\\QuadAdmin\\Downloads\\files\\images\\call...   \n",
       "2  C:\\Users\\QuadAdmin\\Downloads\\files\\images\\f018...   \n",
       "3  C:\\Users\\QuadAdmin\\Downloads\\files\\images\\f019...   \n",
       "\n",
       "                                                text  \n",
       "0  Customer: Hi there, | bought this computer in ...  \n",
       "1  GR:\\nCUNT:\\n\\nsR:\\nCUNT:\\nsR:\\nCUNT:\\nGSR:\\n\\n...  \n",
       "2  Raghuram Rajan is the Katherine Dusak Miller D...  \n",
       "3  Natural language processing is a massive field...  "
      ],
      "text/html": "<div>\n<style scoped>\n    .dataframe tbody tr th:only-of-type {\n        vertical-align: middle;\n    }\n\n    .dataframe tbody tr th {\n        vertical-align: top;\n    }\n\n    .dataframe thead th {\n        text-align: right;\n    }\n</style>\n<table border=\"1\" class=\"dataframe\">\n  <thead>\n    <tr style=\"text-align: right;\">\n      <th></th>\n      <th>fileName</th>\n      <th>text</th>\n    </tr>\n  </thead>\n  <tbody>\n    <tr>\n      <th>0</th>\n      <td>C:\\Users\\QuadAdmin\\Downloads\\files\\images\\call...</td>\n      <td>Customer: Hi there, | bought this computer in ...</td>\n    </tr>\n    <tr>\n      <th>1</th>\n      <td>C:\\Users\\QuadAdmin\\Downloads\\files\\images\\call...</td>\n      <td>GR:\\nCUNT:\\n\\nsR:\\nCUNT:\\nsR:\\nCUNT:\\nGSR:\\n\\n...</td>\n    </tr>\n    <tr>\n      <th>2</th>\n      <td>C:\\Users\\QuadAdmin\\Downloads\\files\\images\\f018...</td>\n      <td>Raghuram Rajan is the Katherine Dusak Miller D...</td>\n    </tr>\n    <tr>\n      <th>3</th>\n      <td>C:\\Users\\QuadAdmin\\Downloads\\files\\images\\f019...</td>\n      <td>Natural language processing is a massive field...</td>\n    </tr>\n  </tbody>\n</table>\n</div>"
     },
     "metadata": {},
     "execution_count": 21
    }
   ],
   "source": [
    "DF"
   ]
  },
  {
   "cell_type": "code",
   "execution_count": 22,
   "metadata": {},
   "outputs": [],
   "source": [
    "DF[\"text\"] = DF[\"text\"].apply(lambda text: re.sub(\"\\n\",\" \",text))"
   ]
  },
  {
   "cell_type": "code",
   "execution_count": 23,
   "metadata": {},
   "outputs": [
    {
     "output_type": "execute_result",
     "data": {
      "text/plain": [
       "                                            fileName  \\\n",
       "0  C:\\Users\\QuadAdmin\\Downloads\\files\\images\\call...   \n",
       "1  C:\\Users\\QuadAdmin\\Downloads\\files\\images\\call...   \n",
       "2  C:\\Users\\QuadAdmin\\Downloads\\files\\images\\f018...   \n",
       "3  C:\\Users\\QuadAdmin\\Downloads\\files\\images\\f019...   \n",
       "\n",
       "                                                text  \n",
       "0  Customer: Hi there, | bought this computer in ...  \n",
       "1  GR: CUNT:  sR: CUNT: sR: CUNT: GSR:  NT: SR:  ...  \n",
       "2  Raghuram Rajan is the Katherine Dusak Miller D...  \n",
       "3  Natural language processing is a massive field...  "
      ],
      "text/html": "<div>\n<style scoped>\n    .dataframe tbody tr th:only-of-type {\n        vertical-align: middle;\n    }\n\n    .dataframe tbody tr th {\n        vertical-align: top;\n    }\n\n    .dataframe thead th {\n        text-align: right;\n    }\n</style>\n<table border=\"1\" class=\"dataframe\">\n  <thead>\n    <tr style=\"text-align: right;\">\n      <th></th>\n      <th>fileName</th>\n      <th>text</th>\n    </tr>\n  </thead>\n  <tbody>\n    <tr>\n      <th>0</th>\n      <td>C:\\Users\\QuadAdmin\\Downloads\\files\\images\\call...</td>\n      <td>Customer: Hi there, | bought this computer in ...</td>\n    </tr>\n    <tr>\n      <th>1</th>\n      <td>C:\\Users\\QuadAdmin\\Downloads\\files\\images\\call...</td>\n      <td>GR: CUNT:  sR: CUNT: sR: CUNT: GSR:  NT: SR:  ...</td>\n    </tr>\n    <tr>\n      <th>2</th>\n      <td>C:\\Users\\QuadAdmin\\Downloads\\files\\images\\f018...</td>\n      <td>Raghuram Rajan is the Katherine Dusak Miller D...</td>\n    </tr>\n    <tr>\n      <th>3</th>\n      <td>C:\\Users\\QuadAdmin\\Downloads\\files\\images\\f019...</td>\n      <td>Natural language processing is a massive field...</td>\n    </tr>\n  </tbody>\n</table>\n</div>"
     },
     "metadata": {},
     "execution_count": 23
    }
   ],
   "source": [
    "DF"
   ]
  },
  {
   "cell_type": "code",
   "execution_count": 24,
   "metadata": {},
   "outputs": [],
   "source": [
    "from pyspark.sql.types import *"
   ]
  },
  {
   "cell_type": "code",
   "execution_count": 25,
   "metadata": {},
   "outputs": [],
   "source": [
    "from pyspark.sql import *"
   ]
  },
  {
   "cell_type": "code",
   "execution_count": 26,
   "metadata": {},
   "outputs": [],
   "source": [
    "import pyspark.sql.functions as F"
   ]
  },
  {
   "cell_type": "code",
   "execution_count": 27,
   "metadata": {},
   "outputs": [],
   "source": [
    "from parse_pii.piiparser import *"
   ]
  },
  {
   "cell_type": "code",
   "execution_count": 28,
   "metadata": {},
   "outputs": [
    {
     "output_type": "execute_result",
     "data": {
      "text/plain": [
       "\"Customer: Hi there, | bought this computer in your shop, but it doesn’t perform as well as described on the website. I chose my platform and the games | would be playing, but the computer doesn’t come anywhere close to hitting the frame rate that the manufacturer said it would even on the lowest graphic settings. I'd like to return it.  Representative: Hey there! No problem. You can return it or exchange it for a different computer. Many of our customers are serious gamers, and they speak highly of this (other) model. Why don’t you demo it and tell us what you think?  Customer: Wow! This computer's great! | hope | won't regret it if | do an exchange. \\x0c\""
      ]
     },
     "metadata": {},
     "execution_count": 28
    }
   ],
   "source": [
    "DF[\"text\"][0]"
   ]
  },
  {
   "cell_type": "code",
   "execution_count": 29,
   "metadata": {},
   "outputs": [
    {
     "output_type": "execute_result",
     "data": {
      "text/plain": [
       "'no'"
      ]
     },
     "metadata": {},
     "execution_count": 29
    }
   ],
   "source": [
    "classify(DF[\"text\"][0])"
   ]
  },
  {
   "cell_type": "code",
   "execution_count": 30,
   "metadata": {},
   "outputs": [],
   "source": [
    "sparkDF = spark.createDataFrame(DF)"
   ]
  },
  {
   "cell_type": "code",
   "execution_count": 31,
   "metadata": {},
   "outputs": [
    {
     "output_type": "stream",
     "name": "stdout",
     "text": [
      "+--------------------+--------------------+\n|            fileName|                text|\n+--------------------+--------------------+\n|C:\\Users\\QuadAdmi...|Customer: Hi ther...|\n|C:\\Users\\QuadAdmi...|GR: CUNT:  sR: CU...|\n|C:\\Users\\QuadAdmi...|Raghuram Rajan is...|\n|C:\\Users\\QuadAdmi...|Natural language ...|\n+--------------------+--------------------+\n\n"
     ]
    }
   ],
   "source": [
    "sparkDF.show(5)"
   ]
  },
  {
   "cell_type": "code",
   "execution_count": 32,
   "metadata": {},
   "outputs": [
    {
     "output_type": "execute_result",
     "data": {
      "text/plain": [
       "1"
      ]
     },
     "metadata": {},
     "execution_count": 32
    }
   ],
   "source": [
    "sparkDF.rdd.getNumPartitions()"
   ]
  },
  {
   "cell_type": "code",
   "execution_count": 33,
   "metadata": {},
   "outputs": [],
   "source": [
    "classify_udf = F.udf(classify, StringType())"
   ]
  },
  {
   "cell_type": "code",
   "execution_count": 34,
   "metadata": {},
   "outputs": [],
   "source": [
    "# start_time = time.time()\n",
    "# sparkDF.select(\"fileName\", classify_udf(\"text\").alias(\"has_pii\")).show(5)\n",
    "# print(f\"time took: {(time.time() - start_time):.2f} seconds\")"
   ]
  },
  {
   "cell_type": "code",
   "execution_count": 35,
   "metadata": {},
   "outputs": [],
   "source": [
    "# fDF = sparkDF.select(\"fileName\", classify_udf(\"text\").alias(\"has_pii\"))"
   ]
  },
  {
   "cell_type": "code",
   "execution_count": 36,
   "metadata": {},
   "outputs": [],
   "source": [
    "# start_time = time.time()\n",
    "# fDF.coalesce(2).write.mode(\"overwrite\").format(\"csv\").option(\"header\",\"true\").save(\"output\")\n",
    "# print(f\"time took: {(time.time() - start_time):.2f} seconds\")"
   ]
  },
  {
   "cell_type": "code",
   "execution_count": 37,
   "metadata": {},
   "outputs": [],
   "source": [
    "# fDF.printSchema()"
   ]
  },
  {
   "cell_type": "code",
   "execution_count": 38,
   "metadata": {},
   "outputs": [],
   "source": [
    "import spacy\n",
    "from presidio_analyzer import AnalyzerEngine\n",
    "from presidio_analyzer.nlp_engine import SpacyNlpEngine\n",
    "from presidio_analyzer.recognizer_registry import RecognizerRegistry"
   ]
  },
  {
   "cell_type": "code",
   "execution_count": 39,
   "metadata": {},
   "outputs": [],
   "source": [
    "def entity_counter(entity_list):\n",
    "    freq = {}\n",
    "    entity_list = sorted(entity_list)\n",
    "    for items in entity_list: \n",
    "        freq[items] = entity_list.count(items) \n",
    " \n",
    "    counter = \"\"\n",
    "    for key, value in freq.items(): \n",
    "        if key == entity_list[-1]:\n",
    "            counter += f\"{key}:{value}\"\n",
    "        else:\n",
    "            counter += f\"{key}:{value}\"+\", \"\n",
    "    return counter"
   ]
  },
  {
   "cell_type": "code",
   "execution_count": 40,
   "metadata": {},
   "outputs": [],
   "source": [
    "analyzer = AnalyzerEngine(nlp_engine=nlp)"
   ]
  },
  {
   "cell_type": "code",
   "execution_count": 41,
   "metadata": {},
   "outputs": [],
   "source": [
    "def pii_classify(stext):\n",
    "    text = stext\n",
    "    response = analyzer.analyze(correlation_id=0, text = text,language=\"en\",entities=[], score_threshold=0.5)\n",
    "    if len(response) == 0:\n",
    "        return \"no\"\n",
    "    else:\n",
    "        return \"yes\""
   ]
  },
  {
   "cell_type": "code",
   "execution_count": 42,
   "metadata": {},
   "outputs": [
    {
     "output_type": "execute_result",
     "data": {
      "text/plain": [
       "\"Customer: Hi there, | bought this computer in your shop, but it doesn’t perform as well as described on the website. I chose my platform and the games | would be playing, but the computer doesn’t come anywhere close to hitting the frame rate that the manufacturer said it would even on the lowest graphic settings. I'd like to return it.  Representative: Hey there! No problem. You can return it or exchange it for a different computer. Many of our customers are serious gamers, and they speak highly of this (other) model. Why don’t you demo it and tell us what you think?  Customer: Wow! This computer's great! | hope | won't regret it if | do an exchange. \\x0c\""
      ]
     },
     "metadata": {},
     "execution_count": 42
    }
   ],
   "source": [
    "(DF[\"text\"][0])"
   ]
  },
  {
   "cell_type": "code",
   "execution_count": 43,
   "metadata": {},
   "outputs": [
    {
     "output_type": "execute_result",
     "data": {
      "text/plain": [
       "'no'"
      ]
     },
     "metadata": {},
     "execution_count": 43
    }
   ],
   "source": [
    "pii_classify(DF[\"text\"][0])"
   ]
  },
  {
   "cell_type": "code",
   "execution_count": 44,
   "metadata": {},
   "outputs": [],
   "source": [
    "pii_apply_udf = F.udf(pii_classify, StringType())"
   ]
  },
  {
   "cell_type": "code",
   "execution_count": 45,
   "metadata": {},
   "outputs": [
    {
     "output_type": "stream",
     "name": "stdout",
     "text": [
      "+--------------------+-------+\n|            fileName|has_pii|\n+--------------------+-------+\n|C:\\Users\\QuadAdmi...|     no|\n|C:\\Users\\QuadAdmi...|    yes|\n|C:\\Users\\QuadAdmi...|    yes|\n|C:\\Users\\QuadAdmi...|     no|\n+--------------------+-------+\n\n"
     ]
    }
   ],
   "source": [
    "sparkDF.select(\"fileName\", classify_udf(\"text\").alias(\"has_pii\")).show(4)"
   ]
  },
  {
   "cell_type": "code",
   "execution_count": 46,
   "metadata": {},
   "outputs": [],
   "source": [
    "fDF = sparkDF.select(\"fileName\", classify_udf(\"text\").alias(\"has_pii\"))"
   ]
  },
  {
   "cell_type": "code",
   "execution_count": 47,
   "metadata": {},
   "outputs": [],
   "source": [
    "fDF.write.mode(\"overwrite\").saveAsTable(\"op_table3\")"
   ]
  },
  {
   "cell_type": "code",
   "execution_count": 48,
   "metadata": {},
   "outputs": [],
   "source": [
    "# fDF.repartition(1).write.mode(\"overwrite\").csv(\"output\",header=True)"
   ]
  },
  {
   "cell_type": "code",
   "execution_count": 49,
   "metadata": {},
   "outputs": [],
   "source": [
    "# start_time = time.time()\n",
    "# sparkDF.coalesce(2).write.mode(\"overwrite\").format(\"csv\").option(\"header\",\"true\").save(\"output\")\n",
    "# print(f\"time took: {(time.time() - start_time):.2f} seconds\")"
   ]
  }
 ],
 "metadata": {
  "kernelspec": {
   "name": "python385jvsc74a57bd0b3ba2566441a7c06988d0923437866b63cedc61552a5af99d1f4fb67d367b25f",
   "display_name": "Python 3.8.5 64-bit (conda)"
  },
  "language_info": {
   "codemirror_mode": {
    "name": "ipython",
    "version": 3
   },
   "file_extension": ".py",
   "mimetype": "text/x-python",
   "name": "python",
   "nbconvert_exporter": "python",
   "pygments_lexer": "ipython3",
   "version": "3.8.5-final"
  },
  "metadata": {
   "interpreter": {
    "hash": "b95e49215035bc839979a8efe4a80bba9c650ae7605c0fcd6fe55266ab57010d"
   }
  }
 },
 "nbformat": 4,
 "nbformat_minor": 2
}